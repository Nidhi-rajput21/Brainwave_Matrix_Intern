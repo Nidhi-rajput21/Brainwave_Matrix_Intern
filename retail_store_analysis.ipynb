{
 "cells": [
  {
   "cell_type": "code",
   "execution_count": 243,
   "id": "c8a875ac-e37b-4622-8998-302a84e2fa89",
   "metadata": {},
   "outputs": [],
   "source": [
    "import numpy as np\n",
    "import pandas as pd\n",
    "import matplotlib.pyplot as plt\n",
    "import seaborn as sns\n",
    "%matplotlib inline"
   ]
  },
  {
   "cell_type": "code",
   "execution_count": 244,
   "id": "1090560f-d24d-43e4-a229-1448279cd9cb",
   "metadata": {},
   "outputs": [],
   "source": [
    "pd.set_option('display.max_columns', None)"
   ]
  },
  {
   "cell_type": "code",
   "execution_count": 245,
   "id": "3f90ab55-8b1a-4a69-aded-ea237bd0fa10",
   "metadata": {},
   "outputs": [],
   "source": [
    "df = pd.read_csv('sales_data.csv')"
   ]
  },
  {
   "cell_type": "code",
   "execution_count": 246,
   "id": "3bf17874-6a5f-4bca-88b8-aafcfd341d75",
   "metadata": {},
   "outputs": [
    {
     "data": {
      "text/html": [
       "<div>\n",
       "<style scoped>\n",
       "    .dataframe tbody tr th:only-of-type {\n",
       "        vertical-align: middle;\n",
       "    }\n",
       "\n",
       "    .dataframe tbody tr th {\n",
       "        vertical-align: top;\n",
       "    }\n",
       "\n",
       "    .dataframe thead th {\n",
       "        text-align: right;\n",
       "    }\n",
       "</style>\n",
       "<table border=\"1\" class=\"dataframe\">\n",
       "  <thead>\n",
       "    <tr style=\"text-align: right;\">\n",
       "      <th></th>\n",
       "      <th>Order No</th>\n",
       "      <th>Order Date</th>\n",
       "      <th>Customer Name</th>\n",
       "      <th>Address</th>\n",
       "      <th>City</th>\n",
       "      <th>State</th>\n",
       "      <th>Customer Type</th>\n",
       "      <th>Account Manager</th>\n",
       "      <th>Order Priority</th>\n",
       "      <th>Product Name</th>\n",
       "      <th>Product Category</th>\n",
       "      <th>Product Container</th>\n",
       "      <th>Ship Mode</th>\n",
       "      <th>Ship Date</th>\n",
       "      <th>Cost Price</th>\n",
       "      <th>Retail Price</th>\n",
       "      <th>Profit Margin</th>\n",
       "      <th>Order Quantity</th>\n",
       "      <th>Sub Total</th>\n",
       "      <th>Discount %</th>\n",
       "      <th>Discount $</th>\n",
       "      <th>Order Total</th>\n",
       "      <th>Shipping Cost</th>\n",
       "      <th>Total</th>\n",
       "    </tr>\n",
       "  </thead>\n",
       "  <tbody>\n",
       "    <tr>\n",
       "      <th>0</th>\n",
       "      <td>4293-1</td>\n",
       "      <td>02-09-2014</td>\n",
       "      <td>Vivek Sundaresam</td>\n",
       "      <td>152 Bunnerong Road,Eastgardens</td>\n",
       "      <td>Sydney</td>\n",
       "      <td>NSW</td>\n",
       "      <td>Small Business</td>\n",
       "      <td>Tina Carlton</td>\n",
       "      <td>Critical</td>\n",
       "      <td>UGen Ultra Professional Cordless Optical Suite</td>\n",
       "      <td>Office Supplies</td>\n",
       "      <td>Small Box</td>\n",
       "      <td>Regular Air</td>\n",
       "      <td>04-09-2014</td>\n",
       "      <td>$156.50</td>\n",
       "      <td>$300.97</td>\n",
       "      <td>$144.47</td>\n",
       "      <td>23.0</td>\n",
       "      <td>$4,533.52</td>\n",
       "      <td>2%</td>\n",
       "      <td>$194.83</td>\n",
       "      <td>$4,757.22</td>\n",
       "      <td>$7.18</td>\n",
       "      <td>$4,291.55</td>\n",
       "    </tr>\n",
       "    <tr>\n",
       "      <th>1</th>\n",
       "      <td>5001-1</td>\n",
       "      <td>24-10-2015</td>\n",
       "      <td>Shahid Hopkins</td>\n",
       "      <td>438 Victoria Avenue,Chatswood</td>\n",
       "      <td>Sydney</td>\n",
       "      <td>NSW</td>\n",
       "      <td>Corporate</td>\n",
       "      <td>Natasha Song</td>\n",
       "      <td>Medium</td>\n",
       "      <td>Bagged Rubber Bands</td>\n",
       "      <td>Office Supplies</td>\n",
       "      <td>Small Pack</td>\n",
       "      <td>Regular Air</td>\n",
       "      <td>26-10-2015</td>\n",
       "      <td>$0.24</td>\n",
       "      <td>$1.26</td>\n",
       "      <td>$1.02</td>\n",
       "      <td>8.0</td>\n",
       "      <td>$45.20</td>\n",
       "      <td>3%</td>\n",
       "      <td>$0.00</td>\n",
       "      <td>$45.90</td>\n",
       "      <td>$0.70</td>\n",
       "      <td>$46.91</td>\n",
       "    </tr>\n",
       "    <tr>\n",
       "      <th>2</th>\n",
       "      <td>5004-1</td>\n",
       "      <td>13-03-2014</td>\n",
       "      <td>Dennis Pardue</td>\n",
       "      <td>412 Brunswick St,Fitzroy</td>\n",
       "      <td>Melbourne</td>\n",
       "      <td>VIC</td>\n",
       "      <td>Consumer</td>\n",
       "      <td>Connor Betts</td>\n",
       "      <td>Not Specified</td>\n",
       "      <td>TechSavi Cordless Navigator Duo</td>\n",
       "      <td>Office Supplies</td>\n",
       "      <td>Small Box</td>\n",
       "      <td>Regular Air</td>\n",
       "      <td>13-03-2014</td>\n",
       "      <td>$42.11</td>\n",
       "      <td>$80.98</td>\n",
       "      <td>$38.87</td>\n",
       "      <td>45.0</td>\n",
       "      <td>$873.32</td>\n",
       "      <td>4%</td>\n",
       "      <td>$72.23</td>\n",
       "      <td>$837.57</td>\n",
       "      <td>$7.18</td>\n",
       "      <td>$82.58</td>\n",
       "    </tr>\n",
       "    <tr>\n",
       "      <th>3</th>\n",
       "      <td>5009-1</td>\n",
       "      <td>18-02-2013</td>\n",
       "      <td>Sean Wendt</td>\n",
       "      <td>145 Ramsay St,Haberfield</td>\n",
       "      <td>Sydney</td>\n",
       "      <td>NSW</td>\n",
       "      <td>Small Business</td>\n",
       "      <td>Phoebe Gour</td>\n",
       "      <td>Critical</td>\n",
       "      <td>Artisan Printable Repositionable Plastic Tabs</td>\n",
       "      <td>Office Supplies</td>\n",
       "      <td>Wrap Bag</td>\n",
       "      <td>Regular Air</td>\n",
       "      <td>20-02-2013</td>\n",
       "      <td>$5.33</td>\n",
       "      <td>$8.60</td>\n",
       "      <td>$3.27</td>\n",
       "      <td>16.0</td>\n",
       "      <td>$73.52</td>\n",
       "      <td>1%</td>\n",
       "      <td>$4.35</td>\n",
       "      <td>$740.67</td>\n",
       "      <td>$6.19</td>\n",
       "      <td>$730.92</td>\n",
       "    </tr>\n",
       "    <tr>\n",
       "      <th>4</th>\n",
       "      <td>5010-1</td>\n",
       "      <td>13-09-2014</td>\n",
       "      <td>Christina Vanderzanden</td>\n",
       "      <td>188 Pitt Street,Sydney</td>\n",
       "      <td>Sydney</td>\n",
       "      <td>NSW</td>\n",
       "      <td>Small Business</td>\n",
       "      <td>Tina Carlton</td>\n",
       "      <td>Not Specified</td>\n",
       "      <td>Pizazz Drawing Pencil Set</td>\n",
       "      <td>Office Supplies</td>\n",
       "      <td>Wrap Bag</td>\n",
       "      <td>Express Air</td>\n",
       "      <td>17-09-2014</td>\n",
       "      <td>$1.53</td>\n",
       "      <td>$2.78</td>\n",
       "      <td>$1.25</td>\n",
       "      <td>49.0</td>\n",
       "      <td>$138.46</td>\n",
       "      <td>7%</td>\n",
       "      <td>$5.95</td>\n",
       "      <td>$123.77</td>\n",
       "      <td>$1.34</td>\n",
       "      <td>$125.97</td>\n",
       "    </tr>\n",
       "  </tbody>\n",
       "</table>\n",
       "</div>"
      ],
      "text/plain": [
       "  Order No  Order Date           Customer Name  \\\n",
       "0   4293-1  02-09-2014        Vivek Sundaresam   \n",
       "1   5001-1  24-10-2015          Shahid Hopkins   \n",
       "2   5004-1  13-03-2014           Dennis Pardue   \n",
       "3   5009-1  18-02-2013              Sean Wendt   \n",
       "4   5010-1  13-09-2014  Christina Vanderzanden   \n",
       "\n",
       "                          Address       City State   Customer Type  \\\n",
       "0  152 Bunnerong Road,Eastgardens     Sydney   NSW  Small Business   \n",
       "1   438 Victoria Avenue,Chatswood     Sydney   NSW       Corporate   \n",
       "2        412 Brunswick St,Fitzroy  Melbourne   VIC        Consumer   \n",
       "3        145 Ramsay St,Haberfield     Sydney   NSW  Small Business   \n",
       "4          188 Pitt Street,Sydney     Sydney   NSW  Small Business   \n",
       "\n",
       "  Account Manager Order Priority  \\\n",
       "0    Tina Carlton       Critical   \n",
       "1    Natasha Song         Medium   \n",
       "2    Connor Betts  Not Specified   \n",
       "3     Phoebe Gour       Critical   \n",
       "4    Tina Carlton  Not Specified   \n",
       "\n",
       "                                     Product Name Product Category  \\\n",
       "0  UGen Ultra Professional Cordless Optical Suite  Office Supplies   \n",
       "1                             Bagged Rubber Bands  Office Supplies   \n",
       "2                 TechSavi Cordless Navigator Duo  Office Supplies   \n",
       "3   Artisan Printable Repositionable Plastic Tabs  Office Supplies   \n",
       "4                       Pizazz Drawing Pencil Set  Office Supplies   \n",
       "\n",
       "  Product Container    Ship Mode   Ship Date Cost Price Retail Price  \\\n",
       "0         Small Box  Regular Air  04-09-2014    $156.50      $300.97   \n",
       "1        Small Pack  Regular Air  26-10-2015      $0.24        $1.26   \n",
       "2         Small Box  Regular Air  13-03-2014     $42.11       $80.98   \n",
       "3          Wrap Bag  Regular Air  20-02-2013      $5.33        $8.60   \n",
       "4          Wrap Bag  Express Air  17-09-2014      $1.53        $2.78   \n",
       "\n",
       "  Profit Margin  Order Quantity  Sub Total Discount % Discount $ Order Total  \\\n",
       "0       $144.47            23.0  $4,533.52         2%    $194.83   $4,757.22   \n",
       "1         $1.02             8.0     $45.20         3%      $0.00      $45.90   \n",
       "2        $38.87            45.0    $873.32         4%     $72.23     $837.57   \n",
       "3         $3.27            16.0     $73.52         1%      $4.35     $740.67   \n",
       "4         $1.25            49.0    $138.46         7%      $5.95     $123.77   \n",
       "\n",
       "  Shipping Cost      Total  \n",
       "0         $7.18  $4,291.55  \n",
       "1         $0.70     $46.91  \n",
       "2         $7.18     $82.58  \n",
       "3         $6.19    $730.92  \n",
       "4         $1.34    $125.97  "
      ]
     },
     "execution_count": 246,
     "metadata": {},
     "output_type": "execute_result"
    }
   ],
   "source": [
    "df.head()"
   ]
  },
  {
   "cell_type": "code",
   "execution_count": 247,
   "id": "893fd87b-a92d-4acd-8b1c-c6ebddb7c9cf",
   "metadata": {},
   "outputs": [
    {
     "data": {
      "text/plain": [
       "(5000, 24)"
      ]
     },
     "execution_count": 247,
     "metadata": {},
     "output_type": "execute_result"
    }
   ],
   "source": [
    "df.shape"
   ]
  },
  {
   "cell_type": "markdown",
   "id": "d74b76f8-837e-4e16-83fc-4e869cc24e79",
   "metadata": {},
   "source": [
    "# DATA WRANGLING"
   ]
  },
  {
   "cell_type": "markdown",
   "id": "f5c0666c-e0f1-43ed-bce4-8e6eb5cb249c",
   "metadata": {},
   "source": [
    "### Handling missing values"
   ]
  },
  {
   "cell_type": "code",
   "execution_count": 248,
   "id": "7ea1b36f-1303-4f35-bc39-aa2700a5967f",
   "metadata": {},
   "outputs": [],
   "source": [
    "missing_data = df.isnull().sum()\n",
    "missing_data = missing_data[missing_data > 0]"
   ]
  },
  {
   "cell_type": "code",
   "execution_count": 249,
   "id": "5fb5a41b-f288-4454-b25d-239d6899c605",
   "metadata": {},
   "outputs": [
    {
     "data": {
      "text/plain": [
       "Address           1\n",
       "Order Quantity    1\n",
       "dtype: int64"
      ]
     },
     "execution_count": 249,
     "metadata": {},
     "output_type": "execute_result"
    }
   ],
   "source": [
    "missing_data"
   ]
  },
  {
   "cell_type": "markdown",
   "id": "c38ef6e5-849d-4ab2-9b70-042fbba47bf0",
   "metadata": {},
   "source": [
    "* since there is only 1 missing value in each column, best option would be to drop the row"
   ]
  },
  {
   "cell_type": "code",
   "execution_count": 250,
   "id": "239d4d85-fd50-4979-ab08-2e5e3c09448a",
   "metadata": {},
   "outputs": [
    {
     "data": {
      "text/html": [
       "<div>\n",
       "<style scoped>\n",
       "    .dataframe tbody tr th:only-of-type {\n",
       "        vertical-align: middle;\n",
       "    }\n",
       "\n",
       "    .dataframe tbody tr th {\n",
       "        vertical-align: top;\n",
       "    }\n",
       "\n",
       "    .dataframe thead th {\n",
       "        text-align: right;\n",
       "    }\n",
       "</style>\n",
       "<table border=\"1\" class=\"dataframe\">\n",
       "  <thead>\n",
       "    <tr style=\"text-align: right;\">\n",
       "      <th></th>\n",
       "      <th>Order No</th>\n",
       "      <th>Order Date</th>\n",
       "      <th>Customer Name</th>\n",
       "      <th>Address</th>\n",
       "      <th>City</th>\n",
       "      <th>State</th>\n",
       "      <th>Customer Type</th>\n",
       "      <th>Account Manager</th>\n",
       "      <th>Order Priority</th>\n",
       "      <th>Product Name</th>\n",
       "      <th>Product Category</th>\n",
       "      <th>Product Container</th>\n",
       "      <th>Ship Mode</th>\n",
       "      <th>Ship Date</th>\n",
       "      <th>Cost Price</th>\n",
       "      <th>Retail Price</th>\n",
       "      <th>Profit Margin</th>\n",
       "      <th>Order Quantity</th>\n",
       "      <th>Sub Total</th>\n",
       "      <th>Discount %</th>\n",
       "      <th>Discount $</th>\n",
       "      <th>Order Total</th>\n",
       "      <th>Shipping Cost</th>\n",
       "      <th>Total</th>\n",
       "    </tr>\n",
       "  </thead>\n",
       "  <tbody>\n",
       "    <tr>\n",
       "      <th>4354</th>\n",
       "      <td>6384-1</td>\n",
       "      <td>27-04-2016</td>\n",
       "      <td>Patt Bawkins</td>\n",
       "      <td>NaN</td>\n",
       "      <td>Sydney</td>\n",
       "      <td>NSW</td>\n",
       "      <td>Small Business</td>\n",
       "      <td>Tina Carlton</td>\n",
       "      <td>High</td>\n",
       "      <td>HFX LaserJet 3310 Copier</td>\n",
       "      <td>Office Supplies</td>\n",
       "      <td>Small Box</td>\n",
       "      <td>Regular Air</td>\n",
       "      <td>29-04-2016</td>\n",
       "      <td>$377.99</td>\n",
       "      <td>$599.99</td>\n",
       "      <td>$222.00</td>\n",
       "      <td>47.0</td>\n",
       "      <td>$9,599.84</td>\n",
       "      <td>0%</td>\n",
       "      <td>$0.00</td>\n",
       "      <td>$9,599.84</td>\n",
       "      <td>$24.49</td>\n",
       "      <td>$9,624.33</td>\n",
       "    </tr>\n",
       "  </tbody>\n",
       "</table>\n",
       "</div>"
      ],
      "text/plain": [
       "     Order No  Order Date Customer Name Address    City State   Customer Type  \\\n",
       "4354   6384-1  27-04-2016  Patt Bawkins     NaN  Sydney   NSW  Small Business   \n",
       "\n",
       "     Account Manager Order Priority              Product Name  \\\n",
       "4354    Tina Carlton           High  HFX LaserJet 3310 Copier   \n",
       "\n",
       "     Product Category Product Container    Ship Mode   Ship Date Cost Price  \\\n",
       "4354  Office Supplies         Small Box  Regular Air  29-04-2016    $377.99   \n",
       "\n",
       "     Retail Price Profit Margin  Order Quantity  Sub Total Discount %  \\\n",
       "4354      $599.99       $222.00            47.0  $9,599.84         0%   \n",
       "\n",
       "     Discount $ Order Total Shipping Cost      Total  \n",
       "4354      $0.00   $9,599.84        $24.49  $9,624.33  "
      ]
     },
     "execution_count": 250,
     "metadata": {},
     "output_type": "execute_result"
    }
   ],
   "source": [
    "df[df['Address'].isnull()]"
   ]
  },
  {
   "cell_type": "code",
   "execution_count": 251,
   "id": "6381e270-735a-42d6-b811-d0e0d97ed1ef",
   "metadata": {},
   "outputs": [],
   "source": [
    "df.dropna(subset=['Address'], axis=0, inplace=True)"
   ]
  },
  {
   "cell_type": "code",
   "execution_count": 252,
   "id": "1f617897-082e-485a-94c7-76de5360af83",
   "metadata": {},
   "outputs": [
    {
     "data": {
      "text/html": [
       "<div>\n",
       "<style scoped>\n",
       "    .dataframe tbody tr th:only-of-type {\n",
       "        vertical-align: middle;\n",
       "    }\n",
       "\n",
       "    .dataframe tbody tr th {\n",
       "        vertical-align: top;\n",
       "    }\n",
       "\n",
       "    .dataframe thead th {\n",
       "        text-align: right;\n",
       "    }\n",
       "</style>\n",
       "<table border=\"1\" class=\"dataframe\">\n",
       "  <thead>\n",
       "    <tr style=\"text-align: right;\">\n",
       "      <th></th>\n",
       "      <th>Order No</th>\n",
       "      <th>Order Date</th>\n",
       "      <th>Customer Name</th>\n",
       "      <th>Address</th>\n",
       "      <th>City</th>\n",
       "      <th>State</th>\n",
       "      <th>Customer Type</th>\n",
       "      <th>Account Manager</th>\n",
       "      <th>Order Priority</th>\n",
       "      <th>Product Name</th>\n",
       "      <th>Product Category</th>\n",
       "      <th>Product Container</th>\n",
       "      <th>Ship Mode</th>\n",
       "      <th>Ship Date</th>\n",
       "      <th>Cost Price</th>\n",
       "      <th>Retail Price</th>\n",
       "      <th>Profit Margin</th>\n",
       "      <th>Order Quantity</th>\n",
       "      <th>Sub Total</th>\n",
       "      <th>Discount %</th>\n",
       "      <th>Discount $</th>\n",
       "      <th>Order Total</th>\n",
       "      <th>Shipping Cost</th>\n",
       "      <th>Total</th>\n",
       "    </tr>\n",
       "  </thead>\n",
       "  <tbody>\n",
       "    <tr>\n",
       "      <th>1411</th>\n",
       "      <td>5428-1</td>\n",
       "      <td>25-02-2014</td>\n",
       "      <td>Jhrip Luxen</td>\n",
       "      <td>4A Lyons St,Strathfield</td>\n",
       "      <td>Sydney</td>\n",
       "      <td>NSW</td>\n",
       "      <td>Home Office</td>\n",
       "      <td>Tina Carlton</td>\n",
       "      <td>High</td>\n",
       "      <td>Creator Colored Pencils</td>\n",
       "      <td>Furniture</td>\n",
       "      <td>Large Box</td>\n",
       "      <td>Regular Air</td>\n",
       "      <td>26-02-2014</td>\n",
       "      <td>$1.57</td>\n",
       "      <td>$3.28</td>\n",
       "      <td>$1.71</td>\n",
       "      <td>NaN</td>\n",
       "      <td>$85.28</td>\n",
       "      <td>4%</td>\n",
       "      <td>$6.82</td>\n",
       "      <td>$78.46</td>\n",
       "      <td>$0.98</td>\n",
       "      <td>$79.44</td>\n",
       "    </tr>\n",
       "  </tbody>\n",
       "</table>\n",
       "</div>"
      ],
      "text/plain": [
       "     Order No  Order Date Customer Name                  Address    City  \\\n",
       "1411   5428-1  25-02-2014   Jhrip Luxen  4A Lyons St,Strathfield  Sydney   \n",
       "\n",
       "     State Customer Type Account Manager Order Priority  \\\n",
       "1411   NSW   Home Office    Tina Carlton           High   \n",
       "\n",
       "                 Product Name Product Category Product Container    Ship Mode  \\\n",
       "1411  Creator Colored Pencils        Furniture         Large Box  Regular Air   \n",
       "\n",
       "       Ship Date Cost Price Retail Price Profit Margin  Order Quantity  \\\n",
       "1411  26-02-2014      $1.57        $3.28         $1.71             NaN   \n",
       "\n",
       "     Sub Total Discount % Discount $ Order Total Shipping Cost   Total  \n",
       "1411    $85.28         4%      $6.82      $78.46         $0.98  $79.44  "
      ]
     },
     "execution_count": 252,
     "metadata": {},
     "output_type": "execute_result"
    }
   ],
   "source": [
    "df[df['Order Quantity'].isnull()]"
   ]
  },
  {
   "cell_type": "code",
   "execution_count": 253,
   "id": "75ccd059-fb06-4d59-be4b-bc5b77c016dd",
   "metadata": {},
   "outputs": [],
   "source": [
    "df.dropna(subset=['Order Quantity'], axis=0,inplace=True)"
   ]
  },
  {
   "cell_type": "markdown",
   "id": "a02761e1-01e2-415e-800d-454b40532199",
   "metadata": {},
   "source": [
    "### Data Formatting"
   ]
  },
  {
   "cell_type": "code",
   "execution_count": 254,
   "id": "04806f7f-5642-4422-9fff-437d15a13ceb",
   "metadata": {},
   "outputs": [
    {
     "name": "stdout",
     "output_type": "stream",
     "text": [
      "<class 'pandas.core.frame.DataFrame'>\n",
      "Index: 4998 entries, 0 to 4999\n",
      "Data columns (total 24 columns):\n",
      " #   Column             Non-Null Count  Dtype  \n",
      "---  ------             --------------  -----  \n",
      " 0   Order No           4998 non-null   object \n",
      " 1   Order Date         4998 non-null   object \n",
      " 2   Customer Name      4998 non-null   object \n",
      " 3   Address            4998 non-null   object \n",
      " 4   City               4998 non-null   object \n",
      " 5   State              4998 non-null   object \n",
      " 6   Customer Type      4998 non-null   object \n",
      " 7   Account Manager    4998 non-null   object \n",
      " 8   Order Priority     4998 non-null   object \n",
      " 9   Product Name       4998 non-null   object \n",
      " 10  Product Category   4998 non-null   object \n",
      " 11  Product Container  4998 non-null   object \n",
      " 12  Ship Mode          4998 non-null   object \n",
      " 13  Ship Date          4998 non-null   object \n",
      " 14  Cost Price         4998 non-null   object \n",
      " 15  Retail Price       4998 non-null   object \n",
      " 16  Profit Margin      4998 non-null   object \n",
      " 17  Order Quantity     4998 non-null   float64\n",
      " 18  Sub Total          4998 non-null   object \n",
      " 19  Discount %         4998 non-null   object \n",
      " 20  Discount $         4998 non-null   object \n",
      " 21  Order Total        4998 non-null   object \n",
      " 22  Shipping Cost      4998 non-null   object \n",
      " 23  Total              4998 non-null   object \n",
      "dtypes: float64(1), object(23)\n",
      "memory usage: 976.2+ KB\n"
     ]
    }
   ],
   "source": [
    "df.info()"
   ]
  },
  {
   "cell_type": "code",
   "execution_count": 255,
   "id": "21e1e665-1dba-4595-ad79-c6030a5807f8",
   "metadata": {},
   "outputs": [],
   "source": [
    "df['Cost Price'] = df['Cost Price'].str.lstrip(\"$\")\n",
    "df['Cost Price'] = df['Cost Price'].astype('float')"
   ]
  },
  {
   "cell_type": "code",
   "execution_count": 256,
   "id": "87a3bc14-294f-411c-a504-5a7d0fcfaad9",
   "metadata": {},
   "outputs": [],
   "source": [
    "df['Retail Price'] = df['Retail Price'].str.lstrip(\"$\")\n",
    "df['Retail Price'] = df['Retail Price'].astype('float')"
   ]
  },
  {
   "cell_type": "code",
   "execution_count": 257,
   "id": "f76e3580-3a26-46e4-af9e-eeed030acc96",
   "metadata": {},
   "outputs": [],
   "source": [
    "df['Profit Margin'] = df['Profit Margin'].str.lstrip(\"$\")\n",
    "df['Profit Margin'] = df['Profit Margin'].astype('float')"
   ]
  },
  {
   "cell_type": "code",
   "execution_count": 258,
   "id": "c17b145a-3250-4ce0-9fe1-6b9b2e7a6ab1",
   "metadata": {},
   "outputs": [],
   "source": [
    "df['Sub Total'] = df['Sub Total'].str.lstrip(\"$\")\n",
    "df['Sub Total'] = df['Sub Total'].str.replace(',','')\n",
    "df['Sub Total'] = df['Sub Total'].astype('float')"
   ]
  },
  {
   "cell_type": "code",
   "execution_count": 259,
   "id": "bf50e29e-f4e5-4475-af53-3733d65f105c",
   "metadata": {},
   "outputs": [],
   "source": [
    "df['Discount $'] = df['Discount $'].str.lstrip(\"$\")\n",
    "df['Discount $'] = df['Discount $'].str.replace(',','')\n",
    "df['Discount $'] = df['Discount $'].astype('float')"
   ]
  },
  {
   "cell_type": "code",
   "execution_count": 260,
   "id": "446b9b5b-d52b-42aa-90a1-758350671180",
   "metadata": {},
   "outputs": [],
   "source": [
    "df['Order Total'] = df['Order Total'].str.lstrip(\"$\")\n",
    "df['Order Total'] = df['Order Total'].str.replace(',','')\n",
    "df['Order Total'] = df['Order Total'].astype('float')"
   ]
  },
  {
   "cell_type": "code",
   "execution_count": 261,
   "id": "e75a1308-fa5c-4d05-a00c-2253af81288a",
   "metadata": {},
   "outputs": [],
   "source": [
    "df['Shipping Cost'] = df['Shipping Cost'].str.lstrip(\"$\")\n",
    "df['Shipping Cost'] = df['Shipping Cost'].astype('float')"
   ]
  },
  {
   "cell_type": "code",
   "execution_count": 262,
   "id": "1def2e13-687b-4b50-9271-7fb7aeb0402d",
   "metadata": {},
   "outputs": [],
   "source": [
    "df['Total'] = df['Total'].str.lstrip(\"$\")\n",
    "df['Total'] = df['Total'].str.replace(',','')\n",
    "df['Total'] = df['Total'].astype('float')"
   ]
  },
  {
   "cell_type": "code",
   "execution_count": 263,
   "id": "748bf110-772b-4e40-b0ca-bd95bd831c04",
   "metadata": {},
   "outputs": [],
   "source": [
    "df['Discount %'] = df['Discount %'].str.rstrip('%')\n",
    "df['Discount %'] = df['Discount %'].astype('int')"
   ]
  },
  {
   "cell_type": "code",
   "execution_count": 264,
   "id": "2a57508e-6b54-43a2-bb09-27fe4574e8f1",
   "metadata": {},
   "outputs": [],
   "source": [
    "df['Order No'] = df['Order No'].str.replace('-','')\n",
    "df['Order No'] = df['Order No'].astype('int')"
   ]
  },
  {
   "cell_type": "code",
   "execution_count": 265,
   "id": "f22e38d0-cde4-4425-86a5-34b1b56760ce",
   "metadata": {},
   "outputs": [],
   "source": [
    "df['Order Date'] = pd.to_datetime(df['Order Date'], format=\"%d-%m-%Y\")\n",
    "df['Order Date'] = df['Order Date'].dt.strftime('%d-%m-%Y')\n",
    "df['Order Date'] = df['Order Date'].astype('datetime64[ns]')"
   ]
  },
  {
   "cell_type": "code",
   "execution_count": 266,
   "id": "59dfb293-6af8-4319-aa0e-3f3bf507b05e",
   "metadata": {},
   "outputs": [],
   "source": [
    "df['Ship Date'] = pd.to_datetime(df['Ship Date'], format=\"%d-%m-%Y\")\n",
    "df['Ship Date'] = df['Ship Date'].dt.strftime(\"%d-%m-%Y\")\n",
    "df['Ship Date'] = df['Ship Date'].astype('datetime64[ns]')"
   ]
  },
  {
   "cell_type": "code",
   "execution_count": 267,
   "id": "4873e3d6-81c7-4f26-8abd-315a4204fd1a",
   "metadata": {},
   "outputs": [
    {
     "data": {
      "text/plain": [
       "Order No                      int64\n",
       "Order Date           datetime64[ns]\n",
       "Customer Name                object\n",
       "Address                      object\n",
       "City                         object\n",
       "State                        object\n",
       "Customer Type                object\n",
       "Account Manager              object\n",
       "Order Priority               object\n",
       "Product Name                 object\n",
       "Product Category             object\n",
       "Product Container            object\n",
       "Ship Mode                    object\n",
       "Ship Date            datetime64[ns]\n",
       "Cost Price                  float64\n",
       "Retail Price                float64\n",
       "Profit Margin               float64\n",
       "Order Quantity              float64\n",
       "Sub Total                   float64\n",
       "Discount %                    int64\n",
       "Discount $                  float64\n",
       "Order Total                 float64\n",
       "Shipping Cost               float64\n",
       "Total                       float64\n",
       "dtype: object"
      ]
     },
     "execution_count": 267,
     "metadata": {},
     "output_type": "execute_result"
    }
   ],
   "source": [
    "df.dtypes"
   ]
  },
  {
   "cell_type": "markdown",
   "id": "89f84aba-16c4-4c3a-b481-4f248711d371",
   "metadata": {},
   "source": [
    "### Data Standardization\n",
    "#### no need cuz everything is already in right units"
   ]
  },
  {
   "cell_type": "markdown",
   "id": "7e1eeae1-e650-4683-8e5f-88dd53f2e0cb",
   "metadata": {},
   "source": [
    "### Data Normalization\n",
    "#### no need cuz these are actual price values"
   ]
  },
  {
   "cell_type": "markdown",
   "id": "86e4d519-0f31-493b-8e9b-30d34e373866",
   "metadata": {},
   "source": [
    "### Binning\n",
    "#### Cost Price, Retail Price and Profit Margin"
   ]
  },
  {
   "cell_type": "code",
   "execution_count": 268,
   "id": "b68c990c-8498-4455-947e-950304b872ef",
   "metadata": {},
   "outputs": [
    {
     "data": {
      "text/plain": [
       "count    4998.000000\n",
       "mean       20.326240\n",
       "std        56.923641\n",
       "min         0.240000\n",
       "25%         1.840000\n",
       "50%         3.500000\n",
       "75%         8.820000\n",
       "max       377.990000\n",
       "Name: Cost Price, dtype: float64"
      ]
     },
     "execution_count": 268,
     "metadata": {},
     "output_type": "execute_result"
    }
   ],
   "source": [
    "df['Cost Price'].describe()"
   ]
  },
  {
   "cell_type": "code",
   "execution_count": 269,
   "id": "4373ad62-242f-4bb6-8c03-f8632b3566ab",
   "metadata": {},
   "outputs": [
    {
     "data": {
      "text/plain": [
       "array([2.40000000e-01, 1.26156667e+02, 2.52073333e+02, 3.77990000e+02])"
      ]
     },
     "execution_count": 269,
     "metadata": {},
     "output_type": "execute_result"
    }
   ],
   "source": [
    "bins = np.linspace(min(df['Cost Price']), max(df['Cost Price']), 4)\n",
    "bins"
   ]
  },
  {
   "cell_type": "code",
   "execution_count": 270,
   "id": "61a5b470-563d-40c6-b614-408fd4aa6fe1",
   "metadata": {},
   "outputs": [],
   "source": [
    "groups = ['low','medium','high']"
   ]
  },
  {
   "cell_type": "code",
   "execution_count": 271,
   "id": "5f5147bf-7cef-43d0-9f67-502175aceaff",
   "metadata": {},
   "outputs": [
    {
     "data": {
      "text/plain": [
       "Cost bins\n",
       "low       4766\n",
       "high       128\n",
       "medium     104\n",
       "Name: count, dtype: int64"
      ]
     },
     "execution_count": 271,
     "metadata": {},
     "output_type": "execute_result"
    }
   ],
   "source": [
    "df['Cost bins'] = pd.cut(df['Cost Price'],bins, labels=groups, include_lowest=True)\n",
    "df['Cost bins'].value_counts()"
   ]
  },
  {
   "cell_type": "code",
   "execution_count": 272,
   "id": "4662d554-4ae7-461b-a605-c91e82c7f7b9",
   "metadata": {},
   "outputs": [],
   "source": [
    "import matplotlib as plt\n",
    "from matplotlib import pyplot"
   ]
  },
  {
   "cell_type": "code",
   "execution_count": 273,
   "id": "81035469-51b4-43d8-909b-cc8cef4c69df",
   "metadata": {},
   "outputs": [
    {
     "data": {
      "text/plain": [
       "<BarContainer object of 3 artists>"
      ]
     },
     "execution_count": 273,
     "metadata": {},
     "output_type": "execute_result"
    },
    {
     "data": {
      "image/png": "[encoded data removed]",
      "text/plain": [
       "<Figure size 640x480 with 1 Axes>"
      ]
     },
     "metadata": {},
     "output_type": "display_data"
    }
   ],
   "source": [
    "pyplot.bar(groups,df['Cost bins'].value_counts())"
   ]
  },
  {
   "cell_type": "code",
   "execution_count": 274,
   "id": "25140aae-f0e4-4c19-830c-cba76e7936c9",
   "metadata": {},
   "outputs": [
    {
     "data": {
      "text/plain": [
       "count    4998.000000\n",
       "mean       38.181885\n",
       "std        98.836164\n",
       "min         1.140000\n",
       "25%         2.940000\n",
       "50%         5.740000\n",
       "75%        19.980000\n",
       "max       599.990000\n",
       "Name: Retail Price, dtype: float64"
      ]
     },
     "execution_count": 274,
     "metadata": {},
     "output_type": "execute_result"
    }
   ],
   "source": [
    "df['Retail Price'].describe()"
   ]
  },
  {
   "cell_type": "code",
   "execution_count": 275,
   "id": "dc973278-081f-4ba9-9b92-f8819dd1da59",
   "metadata": {},
   "outputs": [
    {
     "data": {
      "text/plain": [
       "Retail bins\n",
       "low       4754\n",
       "high       183\n",
       "medium      61\n",
       "Name: count, dtype: int64"
      ]
     },
     "execution_count": 275,
     "metadata": {},
     "output_type": "execute_result"
    }
   ],
   "source": [
    "bins= np.linspace(min(df['Retail Price']), max(df['Retail Price']), 4)\n",
    "groups = ['low','medium','high']\n",
    "df['Retail bins'] = pd.cut(df['Retail Price'], bins, labels=groups, include_lowest=True)\n",
    "df['Retail bins'].value_counts()"
   ]
  },
  {
   "cell_type": "code",
   "execution_count": 276,
   "id": "b10c29f3-a4ee-4e6d-9d47-635d09d01cf0",
   "metadata": {},
   "outputs": [
    {
     "data": {
      "text/plain": [
       "<BarContainer object of 3 artists>"
      ]
     },
     "execution_count": 276,
     "metadata": {},
     "output_type": "execute_result"
    },
    {
     "data": {
      "image/png": "[encoded data removed]",
      "text/plain": [
       "<Figure size 640x480 with 1 Axes>"
      ]
     },
     "metadata": {},
     "output_type": "display_data"
    }
   ],
   "source": [
    "pyplot.bar(groups,df['Retail bins'].value_counts())"
   ]
  },
  {
   "cell_type": "code",
   "execution_count": 277,
   "id": "49af4034-499f-4546-ac00-7f5819a4368c",
   "metadata": {},
   "outputs": [
    {
     "data": {
      "text/plain": [
       "Profit bins\n",
       "low       4765\n",
       "medium     227\n",
       "high         6\n",
       "Name: count, dtype: int64"
      ]
     },
     "execution_count": 277,
     "metadata": {},
     "output_type": "execute_result"
    }
   ],
   "source": [
    "bins= np.linspace(min(df['Profit Margin']), max(df['Profit Margin']), 4)\n",
    "groups = ['low','medium','high']\n",
    "df['Profit bins'] = pd.cut(df['Profit Margin'], bins, labels=groups, include_lowest=True)\n",
    "df['Profit bins'].value_counts()"
   ]
  },
  {
   "cell_type": "code",
   "execution_count": 278,
   "id": "a31c3eea-6756-4cd9-97ff-52014b910d72",
   "metadata": {},
   "outputs": [
    {
     "data": {
      "text/plain": [
       "<BarContainer object of 3 artists>"
      ]
     },
     "execution_count": 278,
     "metadata": {},
     "output_type": "execute_result"
    },
    {
     "data": {
      "image/png": "[encoded data removed]",
      "text/plain": [
       "<Figure size 640x480 with 1 Axes>"
      ]
     },
     "metadata": {},
     "output_type": "display_data"
    }
   ],
   "source": [
    "pyplot.bar(groups, df['Profit bins'].value_counts())"
   ]
  },
  {
   "cell_type": "code",
   "execution_count": 279,
   "id": "0290fd9b-751f-44df-bf68-3178ee284299",
   "metadata": {},
   "outputs": [
    {
     "data": {
      "text/html": [
       "<div>\n",
       "<style scoped>\n",
       "    .dataframe tbody tr th:only-of-type {\n",
       "        vertical-align: middle;\n",
       "    }\n",
       "\n",
       "    .dataframe tbody tr th {\n",
       "        vertical-align: top;\n",
       "    }\n",
       "\n",
       "    .dataframe thead th {\n",
       "        text-align: right;\n",
       "    }\n",
       "</style>\n",
       "<table border=\"1\" class=\"dataframe\">\n",
       "  <thead>\n",
       "    <tr style=\"text-align: right;\">\n",
       "      <th></th>\n",
       "      <th>Order No</th>\n",
       "      <th>Order Date</th>\n",
       "      <th>Customer Name</th>\n",
       "      <th>Address</th>\n",
       "      <th>City</th>\n",
       "      <th>State</th>\n",
       "      <th>Customer Type</th>\n",
       "      <th>Account Manager</th>\n",
       "      <th>Order Priority</th>\n",
       "      <th>Product Name</th>\n",
       "      <th>Product Category</th>\n",
       "      <th>Product Container</th>\n",
       "      <th>Ship Mode</th>\n",
       "      <th>Ship Date</th>\n",
       "      <th>Cost Price</th>\n",
       "      <th>Retail Price</th>\n",
       "      <th>Profit Margin</th>\n",
       "      <th>Order Quantity</th>\n",
       "      <th>Sub Total</th>\n",
       "      <th>Discount %</th>\n",
       "      <th>Discount $</th>\n",
       "      <th>Order Total</th>\n",
       "      <th>Shipping Cost</th>\n",
       "      <th>Total</th>\n",
       "      <th>Cost bins</th>\n",
       "      <th>Retail bins</th>\n",
       "      <th>Profit bins</th>\n",
       "    </tr>\n",
       "  </thead>\n",
       "  <tbody>\n",
       "    <tr>\n",
       "      <th>0</th>\n",
       "      <td>42931</td>\n",
       "      <td>2014-02-09</td>\n",
       "      <td>Vivek Sundaresam</td>\n",
       "      <td>152 Bunnerong Road,Eastgardens</td>\n",
       "      <td>Sydney</td>\n",
       "      <td>NSW</td>\n",
       "      <td>Small Business</td>\n",
       "      <td>Tina Carlton</td>\n",
       "      <td>Critical</td>\n",
       "      <td>UGen Ultra Professional Cordless Optical Suite</td>\n",
       "      <td>Office Supplies</td>\n",
       "      <td>Small Box</td>\n",
       "      <td>Regular Air</td>\n",
       "      <td>2014-04-09</td>\n",
       "      <td>156.50</td>\n",
       "      <td>300.97</td>\n",
       "      <td>144.47</td>\n",
       "      <td>23.0</td>\n",
       "      <td>4533.52</td>\n",
       "      <td>2</td>\n",
       "      <td>194.83</td>\n",
       "      <td>4757.22</td>\n",
       "      <td>7.18</td>\n",
       "      <td>4291.55</td>\n",
       "      <td>medium</td>\n",
       "      <td>medium</td>\n",
       "      <td>medium</td>\n",
       "    </tr>\n",
       "    <tr>\n",
       "      <th>1</th>\n",
       "      <td>50011</td>\n",
       "      <td>2015-10-24</td>\n",
       "      <td>Shahid Hopkins</td>\n",
       "      <td>438 Victoria Avenue,Chatswood</td>\n",
       "      <td>Sydney</td>\n",
       "      <td>NSW</td>\n",
       "      <td>Corporate</td>\n",
       "      <td>Natasha Song</td>\n",
       "      <td>Medium</td>\n",
       "      <td>Bagged Rubber Bands</td>\n",
       "      <td>Office Supplies</td>\n",
       "      <td>Small Pack</td>\n",
       "      <td>Regular Air</td>\n",
       "      <td>2015-10-26</td>\n",
       "      <td>0.24</td>\n",
       "      <td>1.26</td>\n",
       "      <td>1.02</td>\n",
       "      <td>8.0</td>\n",
       "      <td>45.20</td>\n",
       "      <td>3</td>\n",
       "      <td>0.00</td>\n",
       "      <td>45.90</td>\n",
       "      <td>0.70</td>\n",
       "      <td>46.91</td>\n",
       "      <td>low</td>\n",
       "      <td>low</td>\n",
       "      <td>low</td>\n",
       "    </tr>\n",
       "    <tr>\n",
       "      <th>2</th>\n",
       "      <td>50041</td>\n",
       "      <td>2014-03-13</td>\n",
       "      <td>Dennis Pardue</td>\n",
       "      <td>412 Brunswick St,Fitzroy</td>\n",
       "      <td>Melbourne</td>\n",
       "      <td>VIC</td>\n",
       "      <td>Consumer</td>\n",
       "      <td>Connor Betts</td>\n",
       "      <td>Not Specified</td>\n",
       "      <td>TechSavi Cordless Navigator Duo</td>\n",
       "      <td>Office Supplies</td>\n",
       "      <td>Small Box</td>\n",
       "      <td>Regular Air</td>\n",
       "      <td>2014-03-13</td>\n",
       "      <td>42.11</td>\n",
       "      <td>80.98</td>\n",
       "      <td>38.87</td>\n",
       "      <td>45.0</td>\n",
       "      <td>873.32</td>\n",
       "      <td>4</td>\n",
       "      <td>72.23</td>\n",
       "      <td>837.57</td>\n",
       "      <td>7.18</td>\n",
       "      <td>82.58</td>\n",
       "      <td>low</td>\n",
       "      <td>low</td>\n",
       "      <td>low</td>\n",
       "    </tr>\n",
       "    <tr>\n",
       "      <th>3</th>\n",
       "      <td>50091</td>\n",
       "      <td>2013-02-18</td>\n",
       "      <td>Sean Wendt</td>\n",
       "      <td>145 Ramsay St,Haberfield</td>\n",
       "      <td>Sydney</td>\n",
       "      <td>NSW</td>\n",
       "      <td>Small Business</td>\n",
       "      <td>Phoebe Gour</td>\n",
       "      <td>Critical</td>\n",
       "      <td>Artisan Printable Repositionable Plastic Tabs</td>\n",
       "      <td>Office Supplies</td>\n",
       "      <td>Wrap Bag</td>\n",
       "      <td>Regular Air</td>\n",
       "      <td>2013-02-20</td>\n",
       "      <td>5.33</td>\n",
       "      <td>8.60</td>\n",
       "      <td>3.27</td>\n",
       "      <td>16.0</td>\n",
       "      <td>73.52</td>\n",
       "      <td>1</td>\n",
       "      <td>4.35</td>\n",
       "      <td>740.67</td>\n",
       "      <td>6.19</td>\n",
       "      <td>730.92</td>\n",
       "      <td>low</td>\n",
       "      <td>low</td>\n",
       "      <td>low</td>\n",
       "    </tr>\n",
       "    <tr>\n",
       "      <th>4</th>\n",
       "      <td>50101</td>\n",
       "      <td>2014-09-13</td>\n",
       "      <td>Christina Vanderzanden</td>\n",
       "      <td>188 Pitt Street,Sydney</td>\n",
       "      <td>Sydney</td>\n",
       "      <td>NSW</td>\n",
       "      <td>Small Business</td>\n",
       "      <td>Tina Carlton</td>\n",
       "      <td>Not Specified</td>\n",
       "      <td>Pizazz Drawing Pencil Set</td>\n",
       "      <td>Office Supplies</td>\n",
       "      <td>Wrap Bag</td>\n",
       "      <td>Express Air</td>\n",
       "      <td>2014-09-17</td>\n",
       "      <td>1.53</td>\n",
       "      <td>2.78</td>\n",
       "      <td>1.25</td>\n",
       "      <td>49.0</td>\n",
       "      <td>138.46</td>\n",
       "      <td>7</td>\n",
       "      <td>5.95</td>\n",
       "      <td>123.77</td>\n",
       "      <td>1.34</td>\n",
       "      <td>125.97</td>\n",
       "      <td>low</td>\n",
       "      <td>low</td>\n",
       "      <td>low</td>\n",
       "    </tr>\n",
       "  </tbody>\n",
       "</table>\n",
       "</div>"
      ],
      "text/plain": [
       "   Order No Order Date           Customer Name  \\\n",
       "0     42931 2014-02-09        Vivek Sundaresam   \n",
       "1     50011 2015-10-24          Shahid Hopkins   \n",
       "2     50041 2014-03-13           Dennis Pardue   \n",
       "3     50091 2013-02-18              Sean Wendt   \n",
       "4     50101 2014-09-13  Christina Vanderzanden   \n",
       "\n",
       "                          Address       City State   Customer Type  \\\n",
       "0  152 Bunnerong Road,Eastgardens     Sydney   NSW  Small Business   \n",
       "1   438 Victoria Avenue,Chatswood     Sydney   NSW       Corporate   \n",
       "2        412 Brunswick St,Fitzroy  Melbourne   VIC        Consumer   \n",
       "3        145 Ramsay St,Haberfield     Sydney   NSW  Small Business   \n",
       "4          188 Pitt Street,Sydney     Sydney   NSW  Small Business   \n",
       "\n",
       "  Account Manager Order Priority  \\\n",
       "0    Tina Carlton       Critical   \n",
       "1    Natasha Song         Medium   \n",
       "2    Connor Betts  Not Specified   \n",
       "3     Phoebe Gour       Critical   \n",
       "4    Tina Carlton  Not Specified   \n",
       "\n",
       "                                     Product Name Product Category  \\\n",
       "0  UGen Ultra Professional Cordless Optical Suite  Office Supplies   \n",
       "1                             Bagged Rubber Bands  Office Supplies   \n",
       "2                 TechSavi Cordless Navigator Duo  Office Supplies   \n",
       "3   Artisan Printable Repositionable Plastic Tabs  Office Supplies   \n",
       "4                       Pizazz Drawing Pencil Set  Office Supplies   \n",
       "\n",
       "  Product Container    Ship Mode  Ship Date  Cost Price  Retail Price  \\\n",
       "0         Small Box  Regular Air 2014-04-09      156.50        300.97   \n",
       "1        Small Pack  Regular Air 2015-10-26        0.24          1.26   \n",
       "2         Small Box  Regular Air 2014-03-13       42.11         80.98   \n",
       "3          Wrap Bag  Regular Air 2013-02-20        5.33          8.60   \n",
       "4          Wrap Bag  Express Air 2014-09-17        1.53          2.78   \n",
       "\n",
       "   Profit Margin  Order Quantity  Sub Total  Discount %  Discount $  \\\n",
       "0         144.47            23.0    4533.52           2      194.83   \n",
       "1           1.02             8.0      45.20           3        0.00   \n",
       "2          38.87            45.0     873.32           4       72.23   \n",
       "3           3.27            16.0      73.52           1        4.35   \n",
       "4           1.25            49.0     138.46           7        5.95   \n",
       "\n",
       "   Order Total  Shipping Cost    Total Cost bins Retail bins Profit bins  \n",
       "0      4757.22           7.18  4291.55    medium      medium      medium  \n",
       "1        45.90           0.70    46.91       low         low         low  \n",
       "2       837.57           7.18    82.58       low         low         low  \n",
       "3       740.67           6.19   730.92       low         low         low  \n",
       "4       123.77           1.34   125.97       low         low         low  "
      ]
     },
     "execution_count": 279,
     "metadata": {},
     "output_type": "execute_result"
    }
   ],
   "source": [
    "df.head()"
   ]
  },
  {
   "cell_type": "markdown",
   "id": "3490b4ef-ba2f-49cf-9bf5-4567c762445f",
   "metadata": {},
   "source": [
    "#### So, let's drop the columns which do not contribute in analysis because profit, sales, product and growth matters more\n",
    "##### Drop - Order No, Customer Name, Address"
   ]
  },
  {
   "cell_type": "code",
   "execution_count": 280,
   "id": "33d613aa-8ec4-4366-9db1-819c680d111d",
   "metadata": {},
   "outputs": [],
   "source": [
    "df = df.drop(columns = ['Order No', 'Customer Name', 'Address'])"
   ]
  },
  {
   "cell_type": "markdown",
   "id": "94615f01-9261-47c0-8434-a2ffc44c213f",
   "metadata": {},
   "source": [
    "#### there are errors in data of prices, so lets recalculate them"
   ]
  },
  {
   "cell_type": "code",
   "execution_count": 281,
   "id": "6dec0894-a46f-477c-aada-a44c8f414a3e",
   "metadata": {},
   "outputs": [],
   "source": [
    "df['Sub Total'] = df['Retail Price'] * df['Order Quantity']\n",
    "df['Discount $'] = df['Sub Total'] * (df['Discount %']/100)\n",
    "df['Order Total'] = df['Sub Total'] - df['Discount $']\n",
    "df['Total'] = df['Order Total'] - df['Shipping Cost']"
   ]
  },
  {
   "cell_type": "code",
   "execution_count": 282,
   "id": "42206bd9-8909-433d-810a-6380cde76344",
   "metadata": {},
   "outputs": [
    {
     "data": {
      "text/html": [
       "<div>\n",
       "<style scoped>\n",
       "    .dataframe tbody tr th:only-of-type {\n",
       "        vertical-align: middle;\n",
       "    }\n",
       "\n",
       "    .dataframe tbody tr th {\n",
       "        vertical-align: top;\n",
       "    }\n",
       "\n",
       "    .dataframe thead th {\n",
       "        text-align: right;\n",
       "    }\n",
       "</style>\n",
       "<table border=\"1\" class=\"dataframe\">\n",
       "  <thead>\n",
       "    <tr style=\"text-align: right;\">\n",
       "      <th></th>\n",
       "      <th>Order Date</th>\n",
       "      <th>City</th>\n",
       "      <th>State</th>\n",
       "      <th>Customer Type</th>\n",
       "      <th>Account Manager</th>\n",
       "      <th>Order Priority</th>\n",
       "      <th>Product Name</th>\n",
       "      <th>Product Category</th>\n",
       "      <th>Product Container</th>\n",
       "      <th>Ship Mode</th>\n",
       "      <th>Ship Date</th>\n",
       "      <th>Cost Price</th>\n",
       "      <th>Retail Price</th>\n",
       "      <th>Profit Margin</th>\n",
       "      <th>Order Quantity</th>\n",
       "      <th>Sub Total</th>\n",
       "      <th>Discount %</th>\n",
       "      <th>Discount $</th>\n",
       "      <th>Order Total</th>\n",
       "      <th>Shipping Cost</th>\n",
       "      <th>Total</th>\n",
       "      <th>Cost bins</th>\n",
       "      <th>Retail bins</th>\n",
       "      <th>Profit bins</th>\n",
       "    </tr>\n",
       "  </thead>\n",
       "  <tbody>\n",
       "    <tr>\n",
       "      <th>0</th>\n",
       "      <td>2014-02-09</td>\n",
       "      <td>Sydney</td>\n",
       "      <td>NSW</td>\n",
       "      <td>Small Business</td>\n",
       "      <td>Tina Carlton</td>\n",
       "      <td>Critical</td>\n",
       "      <td>UGen Ultra Professional Cordless Optical Suite</td>\n",
       "      <td>Office Supplies</td>\n",
       "      <td>Small Box</td>\n",
       "      <td>Regular Air</td>\n",
       "      <td>2014-04-09</td>\n",
       "      <td>156.50</td>\n",
       "      <td>300.97</td>\n",
       "      <td>144.47</td>\n",
       "      <td>23.0</td>\n",
       "      <td>6922.31</td>\n",
       "      <td>2</td>\n",
       "      <td>138.4462</td>\n",
       "      <td>6783.8638</td>\n",
       "      <td>7.18</td>\n",
       "      <td>6776.6838</td>\n",
       "      <td>medium</td>\n",
       "      <td>medium</td>\n",
       "      <td>medium</td>\n",
       "    </tr>\n",
       "    <tr>\n",
       "      <th>1</th>\n",
       "      <td>2015-10-24</td>\n",
       "      <td>Sydney</td>\n",
       "      <td>NSW</td>\n",
       "      <td>Corporate</td>\n",
       "      <td>Natasha Song</td>\n",
       "      <td>Medium</td>\n",
       "      <td>Bagged Rubber Bands</td>\n",
       "      <td>Office Supplies</td>\n",
       "      <td>Small Pack</td>\n",
       "      <td>Regular Air</td>\n",
       "      <td>2015-10-26</td>\n",
       "      <td>0.24</td>\n",
       "      <td>1.26</td>\n",
       "      <td>1.02</td>\n",
       "      <td>8.0</td>\n",
       "      <td>10.08</td>\n",
       "      <td>3</td>\n",
       "      <td>0.3024</td>\n",
       "      <td>9.7776</td>\n",
       "      <td>0.70</td>\n",
       "      <td>9.0776</td>\n",
       "      <td>low</td>\n",
       "      <td>low</td>\n",
       "      <td>low</td>\n",
       "    </tr>\n",
       "    <tr>\n",
       "      <th>2</th>\n",
       "      <td>2014-03-13</td>\n",
       "      <td>Melbourne</td>\n",
       "      <td>VIC</td>\n",
       "      <td>Consumer</td>\n",
       "      <td>Connor Betts</td>\n",
       "      <td>Not Specified</td>\n",
       "      <td>TechSavi Cordless Navigator Duo</td>\n",
       "      <td>Office Supplies</td>\n",
       "      <td>Small Box</td>\n",
       "      <td>Regular Air</td>\n",
       "      <td>2014-03-13</td>\n",
       "      <td>42.11</td>\n",
       "      <td>80.98</td>\n",
       "      <td>38.87</td>\n",
       "      <td>45.0</td>\n",
       "      <td>3644.10</td>\n",
       "      <td>4</td>\n",
       "      <td>145.7640</td>\n",
       "      <td>3498.3360</td>\n",
       "      <td>7.18</td>\n",
       "      <td>3491.1560</td>\n",
       "      <td>low</td>\n",
       "      <td>low</td>\n",
       "      <td>low</td>\n",
       "    </tr>\n",
       "    <tr>\n",
       "      <th>3</th>\n",
       "      <td>2013-02-18</td>\n",
       "      <td>Sydney</td>\n",
       "      <td>NSW</td>\n",
       "      <td>Small Business</td>\n",
       "      <td>Phoebe Gour</td>\n",
       "      <td>Critical</td>\n",
       "      <td>Artisan Printable Repositionable Plastic Tabs</td>\n",
       "      <td>Office Supplies</td>\n",
       "      <td>Wrap Bag</td>\n",
       "      <td>Regular Air</td>\n",
       "      <td>2013-02-20</td>\n",
       "      <td>5.33</td>\n",
       "      <td>8.60</td>\n",
       "      <td>3.27</td>\n",
       "      <td>16.0</td>\n",
       "      <td>137.60</td>\n",
       "      <td>1</td>\n",
       "      <td>1.3760</td>\n",
       "      <td>136.2240</td>\n",
       "      <td>6.19</td>\n",
       "      <td>130.0340</td>\n",
       "      <td>low</td>\n",
       "      <td>low</td>\n",
       "      <td>low</td>\n",
       "    </tr>\n",
       "    <tr>\n",
       "      <th>4</th>\n",
       "      <td>2014-09-13</td>\n",
       "      <td>Sydney</td>\n",
       "      <td>NSW</td>\n",
       "      <td>Small Business</td>\n",
       "      <td>Tina Carlton</td>\n",
       "      <td>Not Specified</td>\n",
       "      <td>Pizazz Drawing Pencil Set</td>\n",
       "      <td>Office Supplies</td>\n",
       "      <td>Wrap Bag</td>\n",
       "      <td>Express Air</td>\n",
       "      <td>2014-09-17</td>\n",
       "      <td>1.53</td>\n",
       "      <td>2.78</td>\n",
       "      <td>1.25</td>\n",
       "      <td>49.0</td>\n",
       "      <td>136.22</td>\n",
       "      <td>7</td>\n",
       "      <td>9.5354</td>\n",
       "      <td>126.6846</td>\n",
       "      <td>1.34</td>\n",
       "      <td>125.3446</td>\n",
       "      <td>low</td>\n",
       "      <td>low</td>\n",
       "      <td>low</td>\n",
       "    </tr>\n",
       "  </tbody>\n",
       "</table>\n",
       "</div>"
      ],
      "text/plain": [
       "  Order Date       City State   Customer Type Account Manager Order Priority  \\\n",
       "0 2014-02-09     Sydney   NSW  Small Business    Tina Carlton       Critical   \n",
       "1 2015-10-24     Sydney   NSW       Corporate    Natasha Song         Medium   \n",
       "2 2014-03-13  Melbourne   VIC        Consumer    Connor Betts  Not Specified   \n",
       "3 2013-02-18     Sydney   NSW  Small Business     Phoebe Gour       Critical   \n",
       "4 2014-09-13     Sydney   NSW  Small Business    Tina Carlton  Not Specified   \n",
       "\n",
       "                                     Product Name Product Category  \\\n",
       "0  UGen Ultra Professional Cordless Optical Suite  Office Supplies   \n",
       "1                             Bagged Rubber Bands  Office Supplies   \n",
       "2                 TechSavi Cordless Navigator Duo  Office Supplies   \n",
       "3   Artisan Printable Repositionable Plastic Tabs  Office Supplies   \n",
       "4                       Pizazz Drawing Pencil Set  Office Supplies   \n",
       "\n",
       "  Product Container    Ship Mode  Ship Date  Cost Price  Retail Price  \\\n",
       "0         Small Box  Regular Air 2014-04-09      156.50        300.97   \n",
       "1        Small Pack  Regular Air 2015-10-26        0.24          1.26   \n",
       "2         Small Box  Regular Air 2014-03-13       42.11         80.98   \n",
       "3          Wrap Bag  Regular Air 2013-02-20        5.33          8.60   \n",
       "4          Wrap Bag  Express Air 2014-09-17        1.53          2.78   \n",
       "\n",
       "   Profit Margin  Order Quantity  Sub Total  Discount %  Discount $  \\\n",
       "0         144.47            23.0    6922.31           2    138.4462   \n",
       "1           1.02             8.0      10.08           3      0.3024   \n",
       "2          38.87            45.0    3644.10           4    145.7640   \n",
       "3           3.27            16.0     137.60           1      1.3760   \n",
       "4           1.25            49.0     136.22           7      9.5354   \n",
       "\n",
       "   Order Total  Shipping Cost      Total Cost bins Retail bins Profit bins  \n",
       "0    6783.8638           7.18  6776.6838    medium      medium      medium  \n",
       "1       9.7776           0.70     9.0776       low         low         low  \n",
       "2    3498.3360           7.18  3491.1560       low         low         low  \n",
       "3     136.2240           6.19   130.0340       low         low         low  \n",
       "4     126.6846           1.34   125.3446       low         low         low  "
      ]
     },
     "execution_count": 282,
     "metadata": {},
     "output_type": "execute_result"
    }
   ],
   "source": [
    "df.head()"
   ]
  },
  {
   "cell_type": "markdown",
   "id": "b57f4b06-8a3c-480a-a1d8-aceb1cdda06c",
   "metadata": {},
   "source": [
    "# EDA"
   ]
  },
  {
   "cell_type": "code",
   "execution_count": 283,
   "id": "06512d11-e2f4-42a5-a0b5-a18cd09c20ce",
   "metadata": {},
   "outputs": [
    {
     "data": {
      "text/html": [
       "<div>\n",
       "<style scoped>\n",
       "    .dataframe tbody tr th:only-of-type {\n",
       "        vertical-align: middle;\n",
       "    }\n",
       "\n",
       "    .dataframe tbody tr th {\n",
       "        vertical-align: top;\n",
       "    }\n",
       "\n",
       "    .dataframe thead th {\n",
       "        text-align: right;\n",
       "    }\n",
       "</style>\n",
       "<table border=\"1\" class=\"dataframe\">\n",
       "  <thead>\n",
       "    <tr style=\"text-align: right;\">\n",
       "      <th></th>\n",
       "      <th>Cost Price</th>\n",
       "      <th>Retail Price</th>\n",
       "      <th>Profit Margin</th>\n",
       "      <th>Order Quantity</th>\n",
       "      <th>Sub Total</th>\n",
       "      <th>Discount %</th>\n",
       "      <th>Discount $</th>\n",
       "      <th>Order Total</th>\n",
       "      <th>Shipping Cost</th>\n",
       "      <th>Total</th>\n",
       "    </tr>\n",
       "  </thead>\n",
       "  <tbody>\n",
       "    <tr>\n",
       "      <th>count</th>\n",
       "      <td>4998.000000</td>\n",
       "      <td>4998.000000</td>\n",
       "      <td>4998.000000</td>\n",
       "      <td>4998.000000</td>\n",
       "      <td>4998.000000</td>\n",
       "      <td>4998.000000</td>\n",
       "      <td>4998.000000</td>\n",
       "      <td>4998.000000</td>\n",
       "      <td>4998.000000</td>\n",
       "      <td>4998.000000</td>\n",
       "    </tr>\n",
       "    <tr>\n",
       "      <th>mean</th>\n",
       "      <td>20.326240</td>\n",
       "      <td>38.181885</td>\n",
       "      <td>17.958501</td>\n",
       "      <td>26.478992</td>\n",
       "      <td>1032.035732</td>\n",
       "      <td>5.035014</td>\n",
       "      <td>50.521268</td>\n",
       "      <td>981.514464</td>\n",
       "      <td>5.462023</td>\n",
       "      <td>976.052441</td>\n",
       "    </tr>\n",
       "    <tr>\n",
       "      <th>std</th>\n",
       "      <td>56.923641</td>\n",
       "      <td>98.836164</td>\n",
       "      <td>44.617220</td>\n",
       "      <td>14.390376</td>\n",
       "      <td>3077.113790</td>\n",
       "      <td>3.226890</td>\n",
       "      <td>174.320731</td>\n",
       "      <td>2931.944389</td>\n",
       "      <td>7.975835</td>\n",
       "      <td>2926.693573</td>\n",
       "    </tr>\n",
       "    <tr>\n",
       "      <th>min</th>\n",
       "      <td>0.240000</td>\n",
       "      <td>1.140000</td>\n",
       "      <td>0.360000</td>\n",
       "      <td>1.000000</td>\n",
       "      <td>1.260000</td>\n",
       "      <td>0.000000</td>\n",
       "      <td>0.000000</td>\n",
       "      <td>1.260000</td>\n",
       "      <td>0.490000</td>\n",
       "      <td>-4.525200</td>\n",
       "    </tr>\n",
       "    <tr>\n",
       "      <th>25%</th>\n",
       "      <td>1.840000</td>\n",
       "      <td>2.940000</td>\n",
       "      <td>1.320000</td>\n",
       "      <td>13.000000</td>\n",
       "      <td>64.055000</td>\n",
       "      <td>2.000000</td>\n",
       "      <td>1.730400</td>\n",
       "      <td>61.400800</td>\n",
       "      <td>1.010000</td>\n",
       "      <td>58.879425</td>\n",
       "    </tr>\n",
       "    <tr>\n",
       "      <th>50%</th>\n",
       "      <td>3.500000</td>\n",
       "      <td>5.740000</td>\n",
       "      <td>2.330000</td>\n",
       "      <td>27.000000</td>\n",
       "      <td>144.000000</td>\n",
       "      <td>5.000000</td>\n",
       "      <td>6.048000</td>\n",
       "      <td>137.556000</td>\n",
       "      <td>2.850000</td>\n",
       "      <td>134.330800</td>\n",
       "    </tr>\n",
       "    <tr>\n",
       "      <th>75%</th>\n",
       "      <td>8.820000</td>\n",
       "      <td>19.980000</td>\n",
       "      <td>8.500000</td>\n",
       "      <td>39.000000</td>\n",
       "      <td>449.990000</td>\n",
       "      <td>8.000000</td>\n",
       "      <td>20.089900</td>\n",
       "      <td>427.992300</td>\n",
       "      <td>6.500000</td>\n",
       "      <td>419.764050</td>\n",
       "    </tr>\n",
       "    <tr>\n",
       "      <th>max</th>\n",
       "      <td>377.990000</td>\n",
       "      <td>599.990000</td>\n",
       "      <td>430.180000</td>\n",
       "      <td>50.000000</td>\n",
       "      <td>29999.500000</td>\n",
       "      <td>10.000000</td>\n",
       "      <td>2999.950000</td>\n",
       "      <td>26999.550000</td>\n",
       "      <td>69.300000</td>\n",
       "      <td>26975.060000</td>\n",
       "    </tr>\n",
       "  </tbody>\n",
       "</table>\n",
       "</div>"
      ],
      "text/plain": [
       "        Cost Price  Retail Price  Profit Margin  Order Quantity     Sub Total  \\\n",
       "count  4998.000000   4998.000000    4998.000000     4998.000000   4998.000000   \n",
       "mean     20.326240     38.181885      17.958501       26.478992   1032.035732   \n",
       "std      56.923641     98.836164      44.617220       14.390376   3077.113790   \n",
       "min       0.240000      1.140000       0.360000        1.000000      1.260000   \n",
       "25%       1.840000      2.940000       1.320000       13.000000     64.055000   \n",
       "50%       3.500000      5.740000       2.330000       27.000000    144.000000   \n",
       "75%       8.820000     19.980000       8.500000       39.000000    449.990000   \n",
       "max     377.990000    599.990000     430.180000       50.000000  29999.500000   \n",
       "\n",
       "        Discount %   Discount $   Order Total  Shipping Cost         Total  \n",
       "count  4998.000000  4998.000000   4998.000000    4998.000000   4998.000000  \n",
       "mean      5.035014    50.521268    981.514464       5.462023    976.052441  \n",
       "std       3.226890   174.320731   2931.944389       7.975835   2926.693573  \n",
       "min       0.000000     0.000000      1.260000       0.490000     -4.525200  \n",
       "25%       2.000000     1.730400     61.400800       1.010000     58.879425  \n",
       "50%       5.000000     6.048000    137.556000       2.850000    134.330800  \n",
       "75%       8.000000    20.089900    427.992300       6.500000    419.764050  \n",
       "max      10.000000  2999.950000  26999.550000      69.300000  26975.060000  "
      ]
     },
     "execution_count": 283,
     "metadata": {},
     "output_type": "execute_result"
    }
   ],
   "source": [
    "df.describe(include=['int','float'])"
   ]
  },
  {
   "cell_type": "markdown",
   "id": "957a1754-60e9-4593-80bb-fd188293376e",
   "metadata": {},
   "source": [
    "#### negative value in min of total col, drop those rows"
   ]
  },
  {
   "cell_type": "code",
   "execution_count": 284,
   "id": "7e98b9d6-0960-4548-b98f-c9c9d21bf421",
   "metadata": {},
   "outputs": [],
   "source": [
    "df = df[df['Total'] >= 0]"
   ]
  },
  {
   "cell_type": "code",
   "execution_count": 285,
   "id": "4a2e0dcb-b396-41f2-8654-fd4d0dec1034",
   "metadata": {},
   "outputs": [
    {
     "data": {
      "text/plain": [
       "count     4987.000000\n",
       "mean       978.210064\n",
       "std       2929.559134\n",
       "min          0.147600\n",
       "25%         59.288400\n",
       "50%        134.957200\n",
       "75%        423.397900\n",
       "max      26975.060000\n",
       "Name: Total, dtype: float64"
      ]
     },
     "execution_count": 285,
     "metadata": {},
     "output_type": "execute_result"
    }
   ],
   "source": [
    "df['Total'].describe()"
   ]
  },
  {
   "cell_type": "code",
   "execution_count": 286,
   "id": "a3a5863b-58c2-4f65-b608-e6f19be72b48",
   "metadata": {},
   "outputs": [
    {
     "data": {
      "text/html": [
       "<div>\n",
       "<style scoped>\n",
       "    .dataframe tbody tr th:only-of-type {\n",
       "        vertical-align: middle;\n",
       "    }\n",
       "\n",
       "    .dataframe tbody tr th {\n",
       "        vertical-align: top;\n",
       "    }\n",
       "\n",
       "    .dataframe thead th {\n",
       "        text-align: right;\n",
       "    }\n",
       "</style>\n",
       "<table border=\"1\" class=\"dataframe\">\n",
       "  <thead>\n",
       "    <tr style=\"text-align: right;\">\n",
       "      <th></th>\n",
       "      <th>City</th>\n",
       "      <th>State</th>\n",
       "      <th>Customer Type</th>\n",
       "      <th>Account Manager</th>\n",
       "      <th>Order Priority</th>\n",
       "      <th>Product Name</th>\n",
       "      <th>Product Category</th>\n",
       "      <th>Product Container</th>\n",
       "      <th>Ship Mode</th>\n",
       "    </tr>\n",
       "  </thead>\n",
       "  <tbody>\n",
       "    <tr>\n",
       "      <th>count</th>\n",
       "      <td>4987</td>\n",
       "      <td>4987</td>\n",
       "      <td>4987</td>\n",
       "      <td>4987</td>\n",
       "      <td>4987</td>\n",
       "      <td>4987</td>\n",
       "      <td>4987</td>\n",
       "      <td>4987</td>\n",
       "      <td>4987</td>\n",
       "    </tr>\n",
       "    <tr>\n",
       "      <th>unique</th>\n",
       "      <td>2</td>\n",
       "      <td>2</td>\n",
       "      <td>4</td>\n",
       "      <td>19</td>\n",
       "      <td>5</td>\n",
       "      <td>257</td>\n",
       "      <td>3</td>\n",
       "      <td>6</td>\n",
       "      <td>3</td>\n",
       "    </tr>\n",
       "    <tr>\n",
       "      <th>top</th>\n",
       "      <td>Sydney</td>\n",
       "      <td>NSW</td>\n",
       "      <td>Corporate</td>\n",
       "      <td>Connor Betts</td>\n",
       "      <td>High</td>\n",
       "      <td>Artisan 474 Labels</td>\n",
       "      <td>Office Supplies</td>\n",
       "      <td>Small Box</td>\n",
       "      <td>Regular Air</td>\n",
       "    </tr>\n",
       "    <tr>\n",
       "      <th>freq</th>\n",
       "      <td>3575</td>\n",
       "      <td>3575</td>\n",
       "      <td>1819</td>\n",
       "      <td>888</td>\n",
       "      <td>1122</td>\n",
       "      <td>136</td>\n",
       "      <td>3940</td>\n",
       "      <td>2582</td>\n",
       "      <td>4224</td>\n",
       "    </tr>\n",
       "  </tbody>\n",
       "</table>\n",
       "</div>"
      ],
      "text/plain": [
       "          City State Customer Type Account Manager Order Priority  \\\n",
       "count     4987  4987          4987            4987           4987   \n",
       "unique       2     2             4              19              5   \n",
       "top     Sydney   NSW     Corporate    Connor Betts           High   \n",
       "freq      3575  3575          1819             888           1122   \n",
       "\n",
       "              Product Name Product Category Product Container    Ship Mode  \n",
       "count                 4987             4987              4987         4987  \n",
       "unique                 257                3                 6            3  \n",
       "top     Artisan 474 Labels  Office Supplies         Small Box  Regular Air  \n",
       "freq                   136             3940              2582         4224  "
      ]
     },
     "execution_count": 286,
     "metadata": {},
     "output_type": "execute_result"
    }
   ],
   "source": [
    "df.describe(include='object')"
   ]
  },
  {
   "cell_type": "markdown",
   "id": "f980cf8f-5f0c-4275-811f-2d37f61e8cab",
   "metadata": {},
   "source": [
    "### Analyze individual feature patterns with target variable"
   ]
  },
  {
   "cell_type": "code",
   "execution_count": 287,
   "id": "d663bb37-9e52-49b4-bd8e-3e1214aee4c2",
   "metadata": {},
   "outputs": [],
   "source": [
    "from scipy import stats"
   ]
  },
  {
   "cell_type": "code",
   "execution_count": 288,
   "id": "91ecda0a-b3ee-494e-8b64-13b9f919c383",
   "metadata": {},
   "outputs": [
    {
     "data": {
      "text/html": [
       "<div>\n",
       "<style scoped>\n",
       "    .dataframe tbody tr th:only-of-type {\n",
       "        vertical-align: middle;\n",
       "    }\n",
       "\n",
       "    .dataframe tbody tr th {\n",
       "        vertical-align: top;\n",
       "    }\n",
       "\n",
       "    .dataframe thead th {\n",
       "        text-align: right;\n",
       "    }\n",
       "</style>\n",
       "<table border=\"1\" class=\"dataframe\">\n",
       "  <thead>\n",
       "    <tr style=\"text-align: right;\">\n",
       "      <th></th>\n",
       "      <th>Total</th>\n",
       "      <th>Profit Margin</th>\n",
       "    </tr>\n",
       "  </thead>\n",
       "  <tbody>\n",
       "    <tr>\n",
       "      <th>Total</th>\n",
       "      <td>1.000000</td>\n",
       "      <td>0.840626</td>\n",
       "    </tr>\n",
       "    <tr>\n",
       "      <th>Profit Margin</th>\n",
       "      <td>0.840626</td>\n",
       "      <td>1.000000</td>\n",
       "    </tr>\n",
       "  </tbody>\n",
       "</table>\n",
       "</div>"
      ],
      "text/plain": [
       "                  Total  Profit Margin\n",
       "Total          1.000000       0.840626\n",
       "Profit Margin  0.840626       1.000000"
      ]
     },
     "execution_count": 288,
     "metadata": {},
     "output_type": "execute_result"
    }
   ],
   "source": [
    "df[['Total','Profit Margin']].corr()"
   ]
  },
  {
   "cell_type": "code",
   "execution_count": 289,
   "id": "0fb0f56c-4538-4bce-9fbd-e0dee4c95e4a",
   "metadata": {},
   "outputs": [
    {
     "name": "stdout",
     "output_type": "stream",
     "text": [
      "0.8406262672653804 0.0\n"
     ]
    }
   ],
   "source": [
    "coef, p = stats.pearsonr(df['Total'],df['Profit Margin'])\n",
    "print(coef,p)"
   ]
  },
  {
   "cell_type": "code",
   "execution_count": 290,
   "id": "4ed89d1f-c202-40a0-a086-791496e28c6a",
   "metadata": {},
   "outputs": [
    {
     "data": {
      "text/plain": [
       "<Axes: xlabel='Profit Margin', ylabel='Total'>"
      ]
     },
     "execution_count": 290,
     "metadata": {},
     "output_type": "execute_result"
    },
    {
     "data": {
      "image/png": "[encoded data removed]",
      "text/plain": [
       "<Figure size 640x480 with 1 Axes>"
      ]
     },
     "metadata": {},
     "output_type": "display_data"
    }
   ],
   "source": [
    "sns.regplot(x='Profit Margin',y='Total',data=df)"
   ]
  },
  {
   "cell_type": "markdown",
   "id": "59f4b044-6c6a-4017-a45a-cbc9f35f3789",
   "metadata": {},
   "source": [
    "#### Profit Margin and Total show \n",
    "* strong positive linear correlation and\n",
    "* strong statistical significance"
   ]
  },
  {
   "cell_type": "code",
   "execution_count": 291,
   "id": "25ef3e43-5de0-4225-b715-5cc79cf28688",
   "metadata": {},
   "outputs": [
    {
     "name": "stdout",
     "output_type": "stream",
     "text": [
      "0.9117282607653232 0.0\n"
     ]
    }
   ],
   "source": [
    "coef, p = stats.pearsonr(df['Cost Price'], df['Profit Margin'])\n",
    "print(coef, p)"
   ]
  },
  {
   "cell_type": "code",
   "execution_count": 292,
   "id": "4734b23e-81b9-44e6-9ca2-73f602c1f5d6",
   "metadata": {},
   "outputs": [
    {
     "data": {
      "text/plain": [
       "<Axes: xlabel='Cost Price', ylabel='Profit Margin'>"
      ]
     },
     "execution_count": 292,
     "metadata": {},
     "output_type": "execute_result"
    },
    {
     "data": {
      "image/png": "[encoded data removed]",
      "text/plain": [
       "<Figure size 640x480 with 1 Axes>"
      ]
     },
     "metadata": {},
     "output_type": "display_data"
    }
   ],
   "source": [
    "sns.regplot(x='Cost Price',y='Profit Margin',data=df)"
   ]
  },
  {
   "cell_type": "code",
   "execution_count": 293,
   "id": "bb8899b0-7c2c-4327-9ea0-cce9d45737b5",
   "metadata": {},
   "outputs": [
    {
     "name": "stdout",
     "output_type": "stream",
     "text": [
      "0.9684087621351837 0.0\n"
     ]
    }
   ],
   "source": [
    "coef, p = stats.pearsonr(df['Retail Price'], df['Profit Margin'])\n",
    "print(coef, p)"
   ]
  },
  {
   "cell_type": "code",
   "execution_count": 294,
   "id": "00a366f4-88ba-4e97-b774-ff0457c24a4b",
   "metadata": {},
   "outputs": [
    {
     "data": {
      "text/plain": [
       "<Axes: xlabel='Retail Price', ylabel='Profit Margin'>"
      ]
     },
     "execution_count": 294,
     "metadata": {},
     "output_type": "execute_result"
    },
    {
     "data": {
      "image/png": "[encoded data removed]",
      "text/plain": [
       "<Figure size 640x480 with 1 Axes>"
      ]
     },
     "metadata": {},
     "output_type": "display_data"
    }
   ],
   "source": [
    "sns.regplot(x='Retail Price',y='Profit Margin',data=df)"
   ]
  },
  {
   "cell_type": "code",
   "execution_count": 295,
   "id": "be4f35a3-7777-4278-9f62-777e0816e490",
   "metadata": {},
   "outputs": [
    {
     "name": "stdout",
     "output_type": "stream",
     "text": [
      "0.012209734831497251 0.3886591691393348\n"
     ]
    }
   ],
   "source": [
    "coef, p = stats.pearsonr(df['Order Quantity'], df['Profit Margin'])\n",
    "print(coef, p)"
   ]
  },
  {
   "cell_type": "code",
   "execution_count": 296,
   "id": "46896e64-2d6c-4b47-8e86-113237557910",
   "metadata": {},
   "outputs": [
    {
     "name": "stdout",
     "output_type": "stream",
     "text": [
      "0.7011487856301701 0.0\n"
     ]
    }
   ],
   "source": [
    "coef, p = stats.pearsonr(df['Discount $'], df['Profit Margin'])\n",
    "print(coef, p)"
   ]
  },
  {
   "cell_type": "code",
   "execution_count": 297,
   "id": "6fca48a8-1331-44ee-bce1-4f052a4ab9c8",
   "metadata": {},
   "outputs": [
    {
     "name": "stdout",
     "output_type": "stream",
     "text": [
      "0.8406262672653804 0.0\n"
     ]
    }
   ],
   "source": [
    "coef, p = stats.pearsonr(df['Total'], df['Profit Margin'])\n",
    "print(coef, p)"
   ]
  },
  {
   "cell_type": "markdown",
   "id": "7023acee-a7e3-4938-8e15-df744b9d1e0e",
   "metadata": {},
   "source": [
    "#### 1. Profit Margin -> Cost Price, Retail Price, Discount $, Total  (Positive linear correlation, statistically significant)\n",
    "####    ~ Order Quantity"
   ]
  },
  {
   "cell_type": "code",
   "execution_count": 298,
   "id": "b0c499f6-8a17-4b2e-ab0f-a086d8413495",
   "metadata": {},
   "outputs": [
    {
     "name": "stdout",
     "output_type": "stream",
     "text": [
      "0.8567010406948811 0.0\n"
     ]
    }
   ],
   "source": [
    "coef, p = stats.pearsonr(df['Cost Price'], df['Total'])\n",
    "print(coef, p)"
   ]
  },
  {
   "cell_type": "code",
   "execution_count": 299,
   "id": "decea9f9-27c8-4ab2-8fc0-f2f0a8f57338",
   "metadata": {},
   "outputs": [
    {
     "data": {
      "text/plain": [
       "<Axes: xlabel='Cost Price', ylabel='Total'>"
      ]
     },
     "execution_count": 299,
     "metadata": {},
     "output_type": "execute_result"
    },
    {
     "data": {
      "image/png": "[encoded data removed]",
      "text/plain": [
       "<Figure size 640x480 with 1 Axes>"
      ]
     },
     "metadata": {},
     "output_type": "display_data"
    }
   ],
   "source": [
    "sns.regplot(x='Cost Price',y='Total',data=df)"
   ]
  },
  {
   "cell_type": "code",
   "execution_count": 300,
   "id": "ce0dd77e-4a45-416b-bcfc-26493439842d",
   "metadata": {},
   "outputs": [
    {
     "name": "stdout",
     "output_type": "stream",
     "text": [
      "0.8703800026954983 0.0\n"
     ]
    }
   ],
   "source": [
    "coef, p = stats.pearsonr(df['Retail Price'], df['Total'])\n",
    "print(coef, p)"
   ]
  },
  {
   "cell_type": "code",
   "execution_count": 301,
   "id": "8a965a2c-463c-4333-9993-f857de79ce1d",
   "metadata": {},
   "outputs": [
    {
     "data": {
      "text/plain": [
       "<Axes: xlabel='Retail Price', ylabel='Total'>"
      ]
     },
     "execution_count": 301,
     "metadata": {},
     "output_type": "execute_result"
    },
    {
     "data": {
      "image/png": "[encoded data removed]",
      "text/plain": [
       "<Figure size 640x480 with 1 Axes>"
      ]
     },
     "metadata": {},
     "output_type": "display_data"
    }
   ],
   "source": [
    "sns.regplot(x='Retail Price',y='Total',data=df)"
   ]
  },
  {
   "cell_type": "code",
   "execution_count": 302,
   "id": "33b15e65-7404-434a-8ffa-fb8c06f51357",
   "metadata": {},
   "outputs": [
    {
     "name": "stdout",
     "output_type": "stream",
     "text": [
      "0.18950474931786157 1.5272854586649375e-41\n"
     ]
    }
   ],
   "source": [
    "coef, p = stats.pearsonr(df['Order Quantity'], df['Total'])\n",
    "print(coef, p)"
   ]
  },
  {
   "cell_type": "code",
   "execution_count": 303,
   "id": "bd870670-6817-4946-8420-be1480e587d8",
   "metadata": {},
   "outputs": [
    {
     "name": "stdout",
     "output_type": "stream",
     "text": [
      "0.8236064009799937 0.0\n"
     ]
    }
   ],
   "source": [
    "coef, p = stats.pearsonr(df['Discount $'], df['Total'])\n",
    "print(coef, p)"
   ]
  },
  {
   "cell_type": "code",
   "execution_count": 304,
   "id": "2f653c7f-2f8a-4ae2-8182-1e0b617b2274",
   "metadata": {},
   "outputs": [
    {
     "name": "stdout",
     "output_type": "stream",
     "text": [
      "0.6579102232254438 0.0\n"
     ]
    }
   ],
   "source": [
    "coef, p = stats.pearsonr(df['Shipping Cost'], df['Total'])\n",
    "print(coef, p)"
   ]
  },
  {
   "cell_type": "markdown",
   "id": "38d99f82-5605-439b-b374-a443929202f9",
   "metadata": {},
   "source": [
    "#### 2. Total -> Cost Price, Retail Price, Discount $, Shipping Cost (Positive linear correlation, statistically significant)\n",
    "####     Order Quantity(very weak)"
   ]
  },
  {
   "cell_type": "code",
   "execution_count": 305,
   "id": "161c0b06-3a53-44e6-b3ea-f28e4d72e429",
   "metadata": {},
   "outputs": [],
   "source": [
    "import matplotlib.pyplot as plt\n",
    "df['Profit log'] = np.log1p(df['Profit Margin'])"
   ]
  },
  {
   "cell_type": "code",
   "execution_count": 306,
   "id": "52ce8fdc-7371-4cdf-ad03-b5eb2fcf42b8",
   "metadata": {},
   "outputs": [
    {
     "data": {
      "text/html": [
       "<div>\n",
       "<style scoped>\n",
       "    .dataframe tbody tr th:only-of-type {\n",
       "        vertical-align: middle;\n",
       "    }\n",
       "\n",
       "    .dataframe tbody tr th {\n",
       "        vertical-align: top;\n",
       "    }\n",
       "\n",
       "    .dataframe thead th {\n",
       "        text-align: right;\n",
       "    }\n",
       "</style>\n",
       "<table border=\"1\" class=\"dataframe\">\n",
       "  <thead>\n",
       "    <tr style=\"text-align: right;\">\n",
       "      <th></th>\n",
       "      <th>Product Category</th>\n",
       "      <th>Profit Margin</th>\n",
       "    </tr>\n",
       "  </thead>\n",
       "  <tbody>\n",
       "    <tr>\n",
       "      <th>0</th>\n",
       "      <td>Furniture</td>\n",
       "      <td>12.767381</td>\n",
       "    </tr>\n",
       "    <tr>\n",
       "      <th>1</th>\n",
       "      <td>Office Supplies</td>\n",
       "      <td>17.675289</td>\n",
       "    </tr>\n",
       "    <tr>\n",
       "      <th>2</th>\n",
       "      <td>Technology</td>\n",
       "      <td>20.423208</td>\n",
       "    </tr>\n",
       "  </tbody>\n",
       "</table>\n",
       "</div>"
      ],
      "text/plain": [
       "  Product Category  Profit Margin\n",
       "0        Furniture      12.767381\n",
       "1  Office Supplies      17.675289\n",
       "2       Technology      20.423208"
      ]
     },
     "execution_count": 306,
     "metadata": {},
     "output_type": "execute_result"
    }
   ],
   "source": [
    "avg_profit = df.groupby('Product Category')['Profit Margin'].mean().reset_index()\n",
    "avg_profit"
   ]
  },
  {
   "cell_type": "code",
   "execution_count": 307,
   "id": "c1b12d09-3b96-4039-9fe6-b241e4fd041d",
   "metadata": {},
   "outputs": [
    {
     "data": {
      "text/plain": [
       "<Axes: xlabel='Product Category', ylabel='Profit Margin'>"
      ]
     },
     "execution_count": 307,
     "metadata": {},
     "output_type": "execute_result"
    },
    {
     "data": {
      "image/png": "[encoded data removed]",
      "text/plain": [
       "<Figure size 640x480 with 1 Axes>"
      ]
     },
     "metadata": {},
     "output_type": "display_data"
    }
   ],
   "source": [
    "sns.barplot(x='Product Category',y='Profit Margin',data=avg_profit)"
   ]
  },
  {
   "cell_type": "markdown",
   "id": "7c0be7a1-f372-4fb2-bd3a-db093788b6b2",
   "metadata": {},
   "source": [
    "#### more profit in technology than other categories"
   ]
  },
  {
   "cell_type": "code",
   "execution_count": 308,
   "id": "0b01c310-e210-4957-b623-28e881e32650",
   "metadata": {},
   "outputs": [],
   "source": [
    "df['total log'] = np.log1p(df['Total'])"
   ]
  },
  {
   "cell_type": "code",
   "execution_count": 309,
   "id": "55a70d7f-dcf7-453b-8c01-c8dc920d7848",
   "metadata": {},
   "outputs": [
    {
     "data": {
      "text/html": [
       "<div>\n",
       "<style scoped>\n",
       "    .dataframe tbody tr th:only-of-type {\n",
       "        vertical-align: middle;\n",
       "    }\n",
       "\n",
       "    .dataframe tbody tr th {\n",
       "        vertical-align: top;\n",
       "    }\n",
       "\n",
       "    .dataframe thead th {\n",
       "        text-align: right;\n",
       "    }\n",
       "</style>\n",
       "<table border=\"1\" class=\"dataframe\">\n",
       "  <thead>\n",
       "    <tr style=\"text-align: right;\">\n",
       "      <th></th>\n",
       "      <th>Product Category</th>\n",
       "      <th>Total</th>\n",
       "    </tr>\n",
       "  </thead>\n",
       "  <tbody>\n",
       "    <tr>\n",
       "      <th>0</th>\n",
       "      <td>Furniture</td>\n",
       "      <td>484.245247</td>\n",
       "    </tr>\n",
       "    <tr>\n",
       "      <th>1</th>\n",
       "      <td>Office Supplies</td>\n",
       "      <td>977.103044</td>\n",
       "    </tr>\n",
       "    <tr>\n",
       "      <th>2</th>\n",
       "      <td>Technology</td>\n",
       "      <td>1077.581790</td>\n",
       "    </tr>\n",
       "  </tbody>\n",
       "</table>\n",
       "</div>"
      ],
      "text/plain": [
       "  Product Category        Total\n",
       "0        Furniture   484.245247\n",
       "1  Office Supplies   977.103044\n",
       "2       Technology  1077.581790"
      ]
     },
     "execution_count": 309,
     "metadata": {},
     "output_type": "execute_result"
    }
   ],
   "source": [
    "avg_sales = df.groupby('Product Category')['Total'].mean().reset_index()\n",
    "avg_sales"
   ]
  },
  {
   "cell_type": "code",
   "execution_count": 310,
   "id": "1dcb4f37-3a1a-41ab-8204-37a94b571cb1",
   "metadata": {},
   "outputs": [
    {
     "data": {
      "text/plain": [
       "<Axes: xlabel='Product Category', ylabel='Total'>"
      ]
     },
     "execution_count": 310,
     "metadata": {},
     "output_type": "execute_result"
    },
    {
     "data": {
      "image/png": "[encoded data removed]",
      "text/plain": [
       "<Figure size 640x480 with 1 Axes>"
      ]
     },
     "metadata": {},
     "output_type": "display_data"
    }
   ],
   "source": [
    "sns.barplot(x='Product Category',y='Total',data=avg_sales)"
   ]
  },
  {
   "cell_type": "markdown",
   "id": "603258c3-0f56-4e49-bb23-58197db3f579",
   "metadata": {},
   "source": [
    "#### more sales in technology than others"
   ]
  },
  {
   "cell_type": "code",
   "execution_count": 311,
   "id": "0bcd437a-c960-4ef1-b596-28161715ee83",
   "metadata": {},
   "outputs": [
    {
     "data": {
      "text/html": [
       "<div>\n",
       "<style scoped>\n",
       "    .dataframe tbody tr th:only-of-type {\n",
       "        vertical-align: middle;\n",
       "    }\n",
       "\n",
       "    .dataframe tbody tr th {\n",
       "        vertical-align: top;\n",
       "    }\n",
       "\n",
       "    .dataframe thead th {\n",
       "        text-align: right;\n",
       "    }\n",
       "</style>\n",
       "<table border=\"1\" class=\"dataframe\">\n",
       "  <thead>\n",
       "    <tr style=\"text-align: right;\">\n",
       "      <th></th>\n",
       "      <th>Order Priority</th>\n",
       "      <th>Total</th>\n",
       "    </tr>\n",
       "  </thead>\n",
       "  <tbody>\n",
       "    <tr>\n",
       "      <th>0</th>\n",
       "      <td>Critical</td>\n",
       "      <td>922.579448</td>\n",
       "    </tr>\n",
       "    <tr>\n",
       "      <th>1</th>\n",
       "      <td>High</td>\n",
       "      <td>1001.763695</td>\n",
       "    </tr>\n",
       "    <tr>\n",
       "      <th>2</th>\n",
       "      <td>Low</td>\n",
       "      <td>1163.783803</td>\n",
       "    </tr>\n",
       "    <tr>\n",
       "      <th>3</th>\n",
       "      <td>Medium</td>\n",
       "      <td>1002.799596</td>\n",
       "    </tr>\n",
       "    <tr>\n",
       "      <th>4</th>\n",
       "      <td>Not Specified</td>\n",
       "      <td>829.003129</td>\n",
       "    </tr>\n",
       "  </tbody>\n",
       "</table>\n",
       "</div>"
      ],
      "text/plain": [
       "  Order Priority        Total\n",
       "0       Critical   922.579448\n",
       "1           High  1001.763695\n",
       "2            Low  1163.783803\n",
       "3         Medium  1002.799596\n",
       "4  Not Specified   829.003129"
      ]
     },
     "execution_count": 311,
     "metadata": {},
     "output_type": "execute_result"
    }
   ],
   "source": [
    "avg_profit_cust = df.groupby('Order Priority')['Total'].mean().reset_index()\n",
    "avg_profit_cust"
   ]
  },
  {
   "cell_type": "code",
   "execution_count": 312,
   "id": "13f1ad35-9d06-40d3-8e9d-97d6311d4ee6",
   "metadata": {},
   "outputs": [
    {
     "data": {
      "text/plain": [
       "<Axes: xlabel='Order Priority', ylabel='Total'>"
      ]
     },
     "execution_count": 312,
     "metadata": {},
     "output_type": "execute_result"
    },
    {
     "data": {
      "image/png": "[encoded data removed]",
      "text/plain": [
       "<Figure size 640x480 with 1 Axes>"
      ]
     },
     "metadata": {},
     "output_type": "display_data"
    }
   ],
   "source": [
    "sns.barplot(x='Order Priority',y='Total',data=avg_profit_cust)"
   ]
  },
  {
   "cell_type": "markdown",
   "id": "9df964ba-0e6f-44b5-a90a-288f9ba43417",
   "metadata": {},
   "source": [
    "#### Most business comes from “Low Priority” orders"
   ]
  },
  {
   "cell_type": "code",
   "execution_count": 313,
   "id": "64fc2a11-5c33-4982-97b0-7e6687f82f74",
   "metadata": {},
   "outputs": [
    {
     "data": {
      "text/html": [
       "<div>\n",
       "<style scoped>\n",
       "    .dataframe tbody tr th:only-of-type {\n",
       "        vertical-align: middle;\n",
       "    }\n",
       "\n",
       "    .dataframe tbody tr th {\n",
       "        vertical-align: top;\n",
       "    }\n",
       "\n",
       "    .dataframe thead th {\n",
       "        text-align: right;\n",
       "    }\n",
       "</style>\n",
       "<table border=\"1\" class=\"dataframe\">\n",
       "  <thead>\n",
       "    <tr style=\"text-align: right;\">\n",
       "      <th></th>\n",
       "      <th>City</th>\n",
       "      <th>Total</th>\n",
       "    </tr>\n",
       "  </thead>\n",
       "  <tbody>\n",
       "    <tr>\n",
       "      <th>0</th>\n",
       "      <td>Melbourne</td>\n",
       "      <td>1.427748e+06</td>\n",
       "    </tr>\n",
       "    <tr>\n",
       "      <th>1</th>\n",
       "      <td>Sydney</td>\n",
       "      <td>3.450586e+06</td>\n",
       "    </tr>\n",
       "  </tbody>\n",
       "</table>\n",
       "</div>"
      ],
      "text/plain": [
       "        City         Total\n",
       "0  Melbourne  1.427748e+06\n",
       "1     Sydney  3.450586e+06"
      ]
     },
     "execution_count": 313,
     "metadata": {},
     "output_type": "execute_result"
    }
   ],
   "source": [
    "city_grp = df.groupby('City')['Total'].sum().reset_index()\n",
    "city_grp"
   ]
  },
  {
   "cell_type": "code",
   "execution_count": 314,
   "id": "1c9cb324-2da0-463f-9854-f86ac8d7c7d7",
   "metadata": {},
   "outputs": [
    {
     "data": {
      "text/plain": [
       "<Axes: xlabel='City', ylabel='Total'>"
      ]
     },
     "execution_count": 314,
     "metadata": {},
     "output_type": "execute_result"
    },
    {
     "data": {
      "image/png": "[encoded data removed]",
      "text/plain": [
       "<Figure size 640x480 with 1 Axes>"
      ]
     },
     "metadata": {},
     "output_type": "display_data"
    }
   ],
   "source": [
    "sns.barplot(x='City',y='Total',data=city_grp)"
   ]
  },
  {
   "cell_type": "markdown",
   "id": "1817f256-a44b-4d0a-a8e4-4bc6b7c0e91a",
   "metadata": {},
   "source": [
    "#### more sales from Sydney"
   ]
  },
  {
   "cell_type": "code",
   "execution_count": 315,
   "id": "f50226f6-d5c6-44e6-8435-2489294c4151",
   "metadata": {},
   "outputs": [
    {
     "data": {
      "text/html": [
       "<div>\n",
       "<style scoped>\n",
       "    .dataframe tbody tr th:only-of-type {\n",
       "        vertical-align: middle;\n",
       "    }\n",
       "\n",
       "    .dataframe tbody tr th {\n",
       "        vertical-align: top;\n",
       "    }\n",
       "\n",
       "    .dataframe thead th {\n",
       "        text-align: right;\n",
       "    }\n",
       "</style>\n",
       "<table border=\"1\" class=\"dataframe\">\n",
       "  <thead>\n",
       "    <tr style=\"text-align: right;\">\n",
       "      <th></th>\n",
       "      <th>Customer Type</th>\n",
       "      <th>Total</th>\n",
       "    </tr>\n",
       "  </thead>\n",
       "  <tbody>\n",
       "    <tr>\n",
       "      <th>0</th>\n",
       "      <td>Consumer</td>\n",
       "      <td>1063.592034</td>\n",
       "    </tr>\n",
       "    <tr>\n",
       "      <th>1</th>\n",
       "      <td>Corporate</td>\n",
       "      <td>908.951113</td>\n",
       "    </tr>\n",
       "    <tr>\n",
       "      <th>2</th>\n",
       "      <td>Home Office</td>\n",
       "      <td>1041.984130</td>\n",
       "    </tr>\n",
       "    <tr>\n",
       "      <th>3</th>\n",
       "      <td>Small Business</td>\n",
       "      <td>954.760350</td>\n",
       "    </tr>\n",
       "  </tbody>\n",
       "</table>\n",
       "</div>"
      ],
      "text/plain": [
       "    Customer Type        Total\n",
       "0        Consumer  1063.592034\n",
       "1       Corporate   908.951113\n",
       "2     Home Office  1041.984130\n",
       "3  Small Business   954.760350"
      ]
     },
     "execution_count": 315,
     "metadata": {},
     "output_type": "execute_result"
    }
   ],
   "source": [
    "cust_grp = df.groupby('Customer Type')['Total'].mean().reset_index()\n",
    "cust_grp"
   ]
  },
  {
   "cell_type": "code",
   "execution_count": 316,
   "id": "7ff80a13-f9ba-4245-928d-34a29cb5e08a",
   "metadata": {},
   "outputs": [
    {
     "data": {
      "text/plain": [
       "<Axes: xlabel='Customer Type', ylabel='Total'>"
      ]
     },
     "execution_count": 316,
     "metadata": {},
     "output_type": "execute_result"
    },
    {
     "data": {
      "image/png": "[encoded data removed]",
      "text/plain": [
       "<Figure size 640x480 with 1 Axes>"
      ]
     },
     "metadata": {},
     "output_type": "display_data"
    }
   ],
   "source": [
    "sns.barplot(x='Customer Type',y='Total',data=cust_grp)"
   ]
  },
  {
   "cell_type": "code",
   "execution_count": 317,
   "id": "bb62ac40-42fa-46d5-ac31-428d52bca68d",
   "metadata": {},
   "outputs": [
    {
     "data": {
      "text/html": [
       "<div>\n",
       "<style scoped>\n",
       "    .dataframe tbody tr th:only-of-type {\n",
       "        vertical-align: middle;\n",
       "    }\n",
       "\n",
       "    .dataframe tbody tr th {\n",
       "        vertical-align: top;\n",
       "    }\n",
       "\n",
       "    .dataframe thead th {\n",
       "        text-align: right;\n",
       "    }\n",
       "</style>\n",
       "<table border=\"1\" class=\"dataframe\">\n",
       "  <thead>\n",
       "    <tr style=\"text-align: right;\">\n",
       "      <th></th>\n",
       "      <th>City</th>\n",
       "      <th>State</th>\n",
       "      <th>Customer Type</th>\n",
       "      <th>Account Manager</th>\n",
       "      <th>Order Priority</th>\n",
       "      <th>Product Name</th>\n",
       "      <th>Product Category</th>\n",
       "      <th>Product Container</th>\n",
       "      <th>Ship Mode</th>\n",
       "    </tr>\n",
       "  </thead>\n",
       "  <tbody>\n",
       "    <tr>\n",
       "      <th>count</th>\n",
       "      <td>4987</td>\n",
       "      <td>4987</td>\n",
       "      <td>4987</td>\n",
       "      <td>4987</td>\n",
       "      <td>4987</td>\n",
       "      <td>4987</td>\n",
       "      <td>4987</td>\n",
       "      <td>4987</td>\n",
       "      <td>4987</td>\n",
       "    </tr>\n",
       "    <tr>\n",
       "      <th>unique</th>\n",
       "      <td>2</td>\n",
       "      <td>2</td>\n",
       "      <td>4</td>\n",
       "      <td>19</td>\n",
       "      <td>5</td>\n",
       "      <td>257</td>\n",
       "      <td>3</td>\n",
       "      <td>6</td>\n",
       "      <td>3</td>\n",
       "    </tr>\n",
       "    <tr>\n",
       "      <th>top</th>\n",
       "      <td>Sydney</td>\n",
       "      <td>NSW</td>\n",
       "      <td>Corporate</td>\n",
       "      <td>Connor Betts</td>\n",
       "      <td>High</td>\n",
       "      <td>Artisan 474 Labels</td>\n",
       "      <td>Office Supplies</td>\n",
       "      <td>Small Box</td>\n",
       "      <td>Regular Air</td>\n",
       "    </tr>\n",
       "    <tr>\n",
       "      <th>freq</th>\n",
       "      <td>3575</td>\n",
       "      <td>3575</td>\n",
       "      <td>1819</td>\n",
       "      <td>888</td>\n",
       "      <td>1122</td>\n",
       "      <td>136</td>\n",
       "      <td>3940</td>\n",
       "      <td>2582</td>\n",
       "      <td>4224</td>\n",
       "    </tr>\n",
       "  </tbody>\n",
       "</table>\n",
       "</div>"
      ],
      "text/plain": [
       "          City State Customer Type Account Manager Order Priority  \\\n",
       "count     4987  4987          4987            4987           4987   \n",
       "unique       2     2             4              19              5   \n",
       "top     Sydney   NSW     Corporate    Connor Betts           High   \n",
       "freq      3575  3575          1819             888           1122   \n",
       "\n",
       "              Product Name Product Category Product Container    Ship Mode  \n",
       "count                 4987             4987              4987         4987  \n",
       "unique                 257                3                 6            3  \n",
       "top     Artisan 474 Labels  Office Supplies         Small Box  Regular Air  \n",
       "freq                   136             3940              2582         4224  "
      ]
     },
     "execution_count": 317,
     "metadata": {},
     "output_type": "execute_result"
    }
   ],
   "source": [
    "df.describe(include='object')"
   ]
  },
  {
   "cell_type": "code",
   "execution_count": 318,
   "id": "000e4005-7c7d-48de-88d3-cc354d2fbdc8",
   "metadata": {},
   "outputs": [
    {
     "data": {
      "text/plain": [
       "Order Priority\n",
       "High             1122\n",
       "Not Specified    1087\n",
       "Medium           1036\n",
       "Critical          883\n",
       "Low               859\n",
       "Name: count, dtype: int64"
      ]
     },
     "execution_count": 318,
     "metadata": {},
     "output_type": "execute_result"
    }
   ],
   "source": [
    "df['Order Priority'].value_counts()"
   ]
  },
  {
   "cell_type": "code",
   "execution_count": 319,
   "id": "872fbdb9-106f-4d0e-b227-0db2b105db0a",
   "metadata": {},
   "outputs": [
    {
     "data": {
      "text/plain": [
       "Ship Mode\n",
       "Regular Air       4224\n",
       "Express Air        646\n",
       "Delivery Truck     117\n",
       "Name: count, dtype: int64"
      ]
     },
     "execution_count": 319,
     "metadata": {},
     "output_type": "execute_result"
    }
   ],
   "source": [
    "df['Ship Mode'].value_counts()"
   ]
  },
  {
   "cell_type": "markdown",
   "id": "f3ae87ce-bf8d-4d73-98b6-02dbb6f4c987",
   "metadata": {},
   "source": [
    "### Groupby and pivot tables"
   ]
  },
  {
   "cell_type": "code",
   "execution_count": 320,
   "id": "7db10977-f037-4e23-849b-e157f1d10de7",
   "metadata": {},
   "outputs": [
    {
     "data": {
      "text/plain": [
       "<Axes: xlabel='None-Profit bins', ylabel='Product Category'>"
      ]
     },
     "execution_count": 320,
     "metadata": {},
     "output_type": "execute_result"
    },
    {
     "data": {
      "image/png": "[encoded data removed]",
      "text/plain": [
       "<Figure size 640x480 with 2 Axes>"
      ]
     },
     "metadata": {},
     "output_type": "display_data"
    }
   ],
   "source": [
    "df_group_one = df[['Product Category','Profit bins','Total']]\n",
    "grouped_one = df_group_one.groupby(['Product Category','Profit bins'], as_index=False,observed=True)['Total'].mean()\n",
    "grouped_one_pivot = grouped_one.pivot(index='Product Category',columns='Profit bins')\n",
    "sns.heatmap(grouped_one_pivot)"
   ]
  },
  {
   "cell_type": "code",
   "execution_count": 321,
   "id": "55cea295-33a7-4eca-8d56-e2b1a42b1090",
   "metadata": {},
   "outputs": [
    {
     "data": {
      "text/plain": [
       "<Axes: xlabel='None-Profit bins', ylabel='Product Container'>"
      ]
     },
     "execution_count": 321,
     "metadata": {},
     "output_type": "execute_result"
    },
    {
     "data": {
      "image/png": "[encoded data removed]",
      "text/plain": [
       "<Figure size 640x480 with 2 Axes>"
      ]
     },
     "metadata": {},
     "output_type": "display_data"
    }
   ],
   "source": [
    "df_group_two = df[['Product Container','Profit bins','Total']]\n",
    "grouped_two = df_group_two.groupby(['Product Container','Profit bins'], as_index=False, observed=True)['Total'].mean()\n",
    "grouped_two_pivot = grouped_two.pivot(index='Product Container',columns='Profit bins')\n",
    "sns.heatmap(grouped_two_pivot)"
   ]
  },
  {
   "cell_type": "code",
   "execution_count": 322,
   "id": "5744b0cb-c4cd-4949-918c-c4136d92d085",
   "metadata": {},
   "outputs": [
    {
     "data": {
      "text/plain": [
       "[<matplotlib.lines.Line2D at 0x1fb108176e0>]"
      ]
     },
     "execution_count": 322,
     "metadata": {},
     "output_type": "execute_result"
    },
    {
     "data": {
      "image/png": "[encoded data removed]",
      "text/plain": [
       "<Figure size 1200x600 with 1 Axes>"
      ]
     },
     "metadata": {},
     "output_type": "display_data"
    }
   ],
   "source": [
    "grouped_four = df.groupby([df['Order Date'].dt.to_period('M')])['total log'].sum().reset_index()\n",
    "grouped_four['Order Date'] = grouped_four['Order Date'].dt.to_timestamp()\n",
    "plt.figure(figsize=(12,6))\n",
    "plt.plot(grouped_four['Order Date'], grouped_four['total log'], marker='o')"
   ]
  },
  {
   "cell_type": "markdown",
   "id": "7c0d9cf4-e9a0-4304-ae35-4ae52a6d651c",
   "metadata": {},
   "source": [
    "# Conclusion\n",
    "* Technology category shows the highest sales and profit compared to Furniture     and Office Supplies.\n",
    "\n",
    "* Majority of the business is driven by “Low Priority” orders.\n",
    "\n",
    "* Sales are concentrated more in Sydney compared to other cities.\n",
    "\n",
    "* Overall sales trend shows growth during 2013–2014, stability from 2014–2017,     and a sharp decline after 2017 (reaching zero due to dataset cutoff)"
   ]
  }
 ],
 "metadata": {
  "kernelspec": {
   "display_name": "Python 3 (ipykernel)",
   "language": "python",
   "name": "python3"
  },
  "language_info": {
   "codemirror_mode": {
    "name": "ipython",
    "version": 3
   },
   "file_extension": ".py",
   "mimetype": "text/x-python",
   "name": "python",
   "nbconvert_exporter": "python",
   "pygments_lexer": "ipython3",
   "version": "3.12.3"
  }
 },
 "nbformat": 4,
 "nbformat_minor": 5
}
